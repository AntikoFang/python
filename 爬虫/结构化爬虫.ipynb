{
 "cells": [
  {
   "cell_type": "code",
   "execution_count": 2,
   "metadata": {},
   "outputs": [
    {
     "ename": "TypeError",
     "evalue": "__init__() missing 7 required positional arguments: 'urlTitle', 'bTitle', 'bContent', 'img', 'newsBody', 'tellBody', and 'code'",
     "output_type": "error",
     "traceback": [
      "\u001b[1;31m---------------------------------------------------------------------------\u001b[0m",
      "\u001b[1;31mTypeError\u001b[0m                                 Traceback (most recent call last)",
      "\u001b[1;32m<ipython-input-2-a948514f5414>\u001b[0m in \u001b[0;36m<module>\u001b[1;34m\u001b[0m\n\u001b[0;32m     69\u001b[0m         \u001b[0mprint\u001b[0m\u001b[1;33m(\u001b[0m\u001b[0mself\u001b[0m\u001b[1;33m.\u001b[0m\u001b[0mcode\u001b[0m\u001b[1;33m[\u001b[0m\u001b[1;36m43\u001b[0m\u001b[1;33m:\u001b[0m\u001b[1;33m]\u001b[0m\u001b[1;33m)\u001b[0m\u001b[1;33m\u001b[0m\u001b[1;33m\u001b[0m\u001b[0m\n\u001b[0;32m     70\u001b[0m \u001b[1;33m\u001b[0m\u001b[0m\n\u001b[1;32m---> 71\u001b[1;33m \u001b[0mcontent\u001b[0m \u001b[1;33m=\u001b[0m \u001b[0mContent\u001b[0m\u001b[1;33m(\u001b[0m\u001b[1;33m)\u001b[0m\u001b[1;33m\u001b[0m\u001b[1;33m\u001b[0m\u001b[0m\n\u001b[0m\u001b[0;32m     72\u001b[0m \u001b[0mcontent\u001b[0m\u001b[1;33m.\u001b[0m\u001b[0mUrlTitle\u001b[0m\u001b[1;33m(\u001b[0m\u001b[0murl\u001b[0m\u001b[1;33m)\u001b[0m\u001b[1;33m\u001b[0m\u001b[1;33m\u001b[0m\u001b[0m\n\u001b[0;32m     73\u001b[0m \u001b[0mcontent\u001b[0m\u001b[1;33m.\u001b[0m\u001b[0mNewsbody\u001b[0m\u001b[1;33m(\u001b[0m\u001b[0murl\u001b[0m\u001b[1;33m)\u001b[0m\u001b[1;33m\u001b[0m\u001b[1;33m\u001b[0m\u001b[0m\n",
      "\u001b[1;31mTypeError\u001b[0m: __init__() missing 7 required positional arguments: 'urlTitle', 'bTitle', 'bContent', 'img', 'newsBody', 'tellBody', and 'code'"
     ]
    }
   ],
   "source": [
    "from urllib.request import urlopen\n",
    "from bs4 import BeautifulSoup\n",
    "import requests\n",
    "import re\n",
    "\n",
    "#url = input('请输入地址链接：')\n",
    "url = 'http://xgxy.hbue.edu.cn'\n",
    "\n",
    "class Content:\n",
    "    \n",
    "    def __init__(self,urlTitle,bTitle,bContent,img,newsBody,tellBody,code):\n",
    "        self.urlTitle = urlTitle\n",
    "        self.bTitle = bTitle\n",
    "        self.bContent = bContent\n",
    "        self.img = img\n",
    "        self.newsBody = newsBody\n",
    "        self.tellBody = tellBody\n",
    "        self.code = code\n",
    "    \n",
    "    def print(self):\n",
    "        print('网页标题:',self.urlTitle)\n",
    "        print('{}标题'.format(self.bTitle))\n",
    "        print('{}内容\\n'.format(self.bContent))\n",
    "        print('图片地址：\\n',self.img)\n",
    "\n",
    "class Crawler:\n",
    "    \n",
    "    def GetPage(self,url):\n",
    "        req = requests.get(url)\n",
    "        req.encoding = 'utf-8'\n",
    "        return BeautifulSoup(req.text,'lxml')\n",
    "\n",
    "    def UrlTitle(self,url):\n",
    "        bs = self.GetPage(url)\n",
    "        title = bs.find('title').text\n",
    "        print('网页标题:',title)\n",
    "\n",
    "    def Url(self,url, attr, attr1, attr2):\n",
    "        urls = set()\n",
    "        bs = self.GetPage(url)\n",
    "        Urls = bs.find(attr,{attr1:attr2}).find_all('a')  #找到所有a标签\n",
    "        for items in Urls:\n",
    "            urls.add('http://xgxy.hbue.edu.cn'+items.get(\"href\"))              # 找到href属性\n",
    "        return(urls)\n",
    "\n",
    "    def body(self,url,a,attr, attr1, attr2):\n",
    "        urls = self.Url(url, attr, attr1, attr2)\n",
    "        for item in urls:\n",
    "            bs = self.GetPage(item)\n",
    "            self.btitle = bs.find('h1',{'class':'arti_title'}).text         \n",
    "            #print('{}标题'.format(a),title)\n",
    "            self.bcontent = bs.find('div',{'class':'wp_articlecontent'}).text\n",
    "            #print('{}内容\\n'.format(a),content)\n",
    "    def Img(self,url):\n",
    "        bs = self.GetPage(url)\n",
    "        self.img = bs.find_all('image',{'width':'120'})                             #全部图片链接\n",
    "        #print('图片地址：\\n',img)\n",
    "        \n",
    "    def Newsbody(self,url):    \n",
    "        self.body(url,'综合新闻','div','id','wp_news_w4')\n",
    "\n",
    "    def Tellbody(self,url):    \n",
    "        self.body(url,'通知公告', 'div', 'id', 'wp_news_w6')\n",
    "\n",
    "    def code(self,url):\n",
    "        bs = self.GetPage(url)\n",
    "        adress = bs.find('div',{'class':'foot'}).find_all('p')\n",
    "        self.code = adress[1].text\n",
    "        print(self.code[43:])\n",
    "\n",
    "content = Content()\n",
    "content.UrlTitle(url)\n",
    "content.Newsbody(url)\n",
    "content.Tellbody(url)\n",
    "content.code(url)"
   ]
  },
  {
   "cell_type": "code",
   "execution_count": null,
   "metadata": {},
   "outputs": [],
   "source": []
  }
 ],
 "metadata": {
  "kernelspec": {
   "display_name": "Python 3",
   "language": "python",
   "name": "python3"
  },
  "language_info": {
   "codemirror_mode": {
    "name": "ipython",
    "version": 3
   },
   "file_extension": ".py",
   "mimetype": "text/x-python",
   "name": "python",
   "nbconvert_exporter": "python",
   "pygments_lexer": "ipython3",
   "version": "3.7.4"
  }
 },
 "nbformat": 4,
 "nbformat_minor": 2
}
