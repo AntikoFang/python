{
 "cells": [
  {
   "cell_type": "code",
   "execution_count": null,
   "metadata": {
    "collapsed": true
   },
   "outputs": [],
   "source": [
    "Numpy的数组对象：ndarray"
   ]
  },
  {
   "cell_type": "code",
   "execution_count": null,
   "metadata": {
    "collapsed": true
   },
   "outputs": [],
   "source": [
    "Numpy是一个开源的python科学计算器\n",
    "\n",
    "功能：主要是用来操作数组和矩阵\n",
    "\n",
    "数据类型：ndarray(N-dimensional array)\n",
    "矩阵里必须都是同类型的数\n",
    "\n",
    "array\n",
    "\n"
   ]
  },
  {
   "cell_type": "markdown",
   "metadata": {},
   "source": [
    "- 字符串和列表乘法表示复制"
   ]
  },
  {
   "cell_type": "code",
   "execution_count": 4,
   "metadata": {},
   "outputs": [
    {
     "name": "stdout",
     "output_type": "stream",
     "text": [
      "[1, 2, 3, 4, 5, 6]\n"
     ]
    },
    {
     "data": {
      "text/plain": [
       "[1, 2, 3, 4, 5, 6, 1, 2, 3, 4, 5, 6]"
      ]
     },
     "execution_count": 4,
     "metadata": {},
     "output_type": "execute_result"
    }
   ],
   "source": [
    "import numpy as np\n",
    "\n",
    "a = [1,2,3,4,5,6]\n",
    "print(a)\n",
    "a * 2"
   ]
  },
  {
   "cell_type": "code",
   "execution_count": 7,
   "metadata": {},
   "outputs": [
    {
     "name": "stdout",
     "output_type": "stream",
     "text": [
      "[2, 4, 6, 8]\n"
     ]
    }
   ],
   "source": [
    "a = [1,2,3,4]\n",
    "b = []\n",
    "for i in range(len(a)):\n",
    "    b.append(a[i]*2)\n",
    "print(b)"
   ]
  },
  {
   "cell_type": "code",
   "execution_count": 9,
   "metadata": {},
   "outputs": [
    {
     "name": "stdout",
     "output_type": "stream",
     "text": [
      "[2 4 6 8]\n"
     ]
    }
   ],
   "source": [
    "import numpy as np\n",
    "\n",
    "a1 = np.array([1,2,3,4])\n",
    "b1 = a1 * 2\n",
    "\n",
    "print(b1)"
   ]
  },
  {
   "cell_type": "markdown",
   "metadata": {},
   "source": [
    "# 2.2 ndarray对象的属性"
   ]
  },
  {
   "cell_type": "code",
   "execution_count": 14,
   "metadata": {},
   "outputs": [
    {
     "name": "stdout",
     "output_type": "stream",
     "text": [
      "2\n",
      "(3, 3)\n",
      "9\n",
      "int32\n",
      "4\n"
     ]
    }
   ],
   "source": [
    "import numpy as np\n",
    "\n",
    "a2 = np.array([[1,2,3],[4,5,6],[7,8,9]])\n",
    "\n",
    "print(a2.ndim)      #维度数量\n",
    "print(a2.shape)     #（n行,m列）\n",
    "print(a2.size)      # n * m\n",
    "print(a2.dtype)     #对象元素类型\n",
    "print(a2.itemsize)  #以字节为单位的数组每个元素大小"
   ]
  },
  {
   "cell_type": "markdown",
   "metadata": {},
   "source": [
    "- 非同质"
   ]
  },
  {
   "cell_type": "code",
   "execution_count": 6,
   "metadata": {},
   "outputs": [
    {
     "name": "stdout",
     "output_type": "stream",
     "text": [
      "(2,)\n",
      "2\n",
      "object\n",
      "8\n"
     ]
    }
   ],
   "source": [
    "import numpy as np\n",
    "\n",
    "a3 = np.array([[1,2,3,4,5,6],[7,8,9]])  #可以由非同质对象组成\n",
    "\n",
    "print(a3.shape)     #（n行,m列）\n",
    "print(a3.size)      # n * m\n",
    "print(a3.dtype)     #元素为对象类型\n",
    "print(a3.itemsize)  #以字节为单位的数组每个元素大小"
   ]
  },
  {
   "cell_type": "markdown",
   "metadata": {},
   "source": [
    "- 可以通过修改数组的shape属性，在保持数组元素个数不变的情况下，改变数组轴的属性"
   ]
  },
  {
   "cell_type": "code",
   "execution_count": 13,
   "metadata": {},
   "outputs": [
    {
     "name": "stdout",
     "output_type": "stream",
     "text": [
      "[[ 1  2  3  4]\n",
      " [ 5  6  7  8]\n",
      " [ 9 10 11 12]]\n",
      "[[ 1  2  3]\n",
      " [ 4  5  6]\n",
      " [ 7  8  9]\n",
      " [10 11 12]]\n",
      "[[ 1  2  3  4  5  6]\n",
      " [ 7  8  9 10 11 12]]\n",
      "[[ 1  2  3]\n",
      " [ 4  5  6]\n",
      " [ 7  8  9]\n",
      " [10 11 12]]\n"
     ]
    }
   ],
   "source": [
    "import numpy as np\n",
    "\n",
    "y = np.array([[1,2,3,4],[5,6,7,8],[9,10,11,12]])\n",
    "print(y)\n",
    "y.shape = 4,3       #只改变轴大小，没有改变数组元素在内存中的位置\n",
    "print(y)\n",
    "y.shape = 2, -1      #当某个轴为-1时系统自动计算此轴的长度\n",
    "print(y)\n",
    "y1 = y.reshape(4,3)  #可以使用reshape创建一个改变尺寸的新数组，保证原数组不变\n",
    "print(y1)"
   ]
  },
  {
   "cell_type": "code",
   "execution_count": null,
   "metadata": {
    "collapsed": true
   },
   "outputs": [],
   "source": []
  },
  {
   "cell_type": "markdown",
   "metadata": {},
   "source": [
    "## ndarray数组的创建"
   ]
  },
  {
   "cell_type": "code",
   "execution_count": 4,
   "metadata": {},
   "outputs": [
    {
     "name": "stdout",
     "output_type": "stream",
     "text": [
      "[0 1 2 3]\n",
      "[4 5 6 7]\n",
      "[[ 8  9]\n",
      " [10 11]]\n"
     ]
    }
   ],
   "source": [
    "# 1. 从python中的列表、元组等类型创建ndarray数组\n",
    "import numpy as np\n",
    "\n",
    "x1 = np.array([0,1,2,3])         # 列表类型创建\n",
    "print(x1)\n",
    "\n",
    "x2 = np.array((4,5,6,7))         # 元组类型创建\n",
    "print(x2)\n",
    "\n",
    "x3 = np.array([[8,9],(10,11)])   #列表和元组混合类型创建\n",
    "print(x3)"
   ]
  },
  {
   "cell_type": "code",
   "execution_count": 12,
   "metadata": {
    "scrolled": false
   },
   "outputs": [
    {
     "name": "stdout",
     "output_type": "stream",
     "text": [
      "[[  4.84184333e-322   0.00000000e+000   0.00000000e+000]\n",
      " [  0.00000000e+000   0.00000000e+000   0.00000000e+000]]\n",
      "[[[ 1.  1.  1.  1.]\n",
      "  [ 1.  1.  1.  1.]\n",
      "  [ 1.  1.  1.  1.]]\n",
      "\n",
      " [[ 1.  1.  1.  1.]\n",
      "  [ 1.  1.  1.  1.]\n",
      "  [ 1.  1.  1.  1.]]]\n",
      "[[[ 0.  0.  0.  0.]\n",
      "  [ 0.  0.  0.  0.]\n",
      "  [ 0.  0.  0.  0.]]\n",
      "\n",
      " [[ 0.  0.  0.  0.]\n",
      "  [ 0.  0.  0.  0.]\n",
      "  [ 0.  0.  0.  0.]]]\n"
     ]
    }
   ],
   "source": [
    "# 2. 使用numpy中函数创建ndarray数组\n",
    "import numpy as np\n",
    "\n",
    "x = np.empty([2,3])    #创建二行三列的数组\n",
    "print(x)\n",
    "\n",
    "x1 = np.ones((2,3,4))  # 创建二维三行四列数组\n",
    "print(x1)\n",
    "\n",
    "x2 = np.zeros_like(x1) #创建和x相同格式且元素全为0的数组\n",
    "print(x2)"
   ]
  },
  {
   "cell_type": "code",
   "execution_count": 13,
   "metadata": {},
   "outputs": [
    {
     "name": "stdout",
     "output_type": "stream",
     "text": [
      "[   1.            1.66810054    2.7825594     4.64158883    7.74263683\n",
      "   12.91549665   21.5443469    35.93813664   59.94842503  100.        ]\n"
     ]
    }
   ],
   "source": [
    "x3 = np.logspace(0,2,10)  # 起值：10^0  终值：10^2  产生10个元素\n",
    "print(x3)"
   ]
  },
  {
   "cell_type": "markdown",
   "metadata": {},
   "source": [
    "# 转换为ndarray类型"
   ]
  },
  {
   "cell_type": "code",
   "execution_count": 24,
   "metadata": {},
   "outputs": [
    {
     "name": "stdout",
     "output_type": "stream",
     "text": [
      "int32\n"
     ]
    },
    {
     "data": {
      "text/plain": [
       "array([ 1.,  2.,  3.,  4.,  5.], dtype=float32)"
      ]
     },
     "execution_count": 24,
     "metadata": {},
     "output_type": "execute_result"
    }
   ],
   "source": [
    "import numpy as np\n",
    "\n",
    "a = np.array([1,2,3,4,5])\n",
    "\n",
    "print(a.dtype)\n",
    "\n",
    "a.astype(np.float32)"
   ]
  },
  {
   "cell_type": "code",
   "execution_count": 9,
   "metadata": {},
   "outputs": [
    {
     "data": {
      "text/plain": [
       "array([[ 2,  4,  6,  8, 10, 12]])"
      ]
     },
     "execution_count": 9,
     "metadata": {},
     "output_type": "execute_result"
    }
   ],
   "source": [
    "# 数乘运算，不再复制\n",
    "np.array([a]) * 2"
   ]
  },
  {
   "cell_type": "markdown",
   "metadata": {},
   "source": [
    "# 创建多维数组"
   ]
  },
  {
   "cell_type": "code",
   "execution_count": 11,
   "metadata": {},
   "outputs": [
    {
     "name": "stdout",
     "output_type": "stream",
     "text": [
      "[[1 2 3]\n",
      " [4 5 6]]\n"
     ]
    }
   ],
   "source": [
    "import numpy as np\n",
    "b = np.array([[1,2,3],[4,5,6]])\n",
    "print(b)"
   ]
  },
  {
   "cell_type": "code",
   "execution_count": null,
   "metadata": {
    "collapsed": true,
    "scrolled": true
   },
   "outputs": [],
   "source": []
  },
  {
   "cell_type": "code",
   "execution_count": null,
   "metadata": {
    "collapsed": true
   },
   "outputs": [],
   "source": [
    "dim     3维\n",
    "size    9\n",
    "shape  一层 3 * 3"
   ]
  },
  {
   "cell_type": "code",
   "execution_count": null,
   "metadata": {
    "collapsed": true
   },
   "outputs": [],
   "source": [
    "nd"
   ]
  },
  {
   "cell_type": "code",
   "execution_count": null,
   "metadata": {
    "collapsed": true
   },
   "outputs": [],
   "source": [
    "查类型：np.dtype"
   ]
  },
  {
   "cell_type": "code",
   "execution_count": null,
   "metadata": {
    "collapsed": true
   },
   "outputs": [],
   "source": [
    "d.shape\n",
    "reshape"
   ]
  },
  {
   "cell_type": "markdown",
   "metadata": {
    "collapsed": true
   },
   "source": [
    "# numpy基础之数组创建\n",
    "\n",
    "empty\n",
    "zeros\n",
    "zeros_like\n",
    "ones\n",
    "ones_like\n",
    "eye 单位矩阵"
   ]
  },
  {
   "cell_type": "code",
   "execution_count": null,
   "metadata": {
    "collapsed": true
   },
   "outputs": [],
   "source": [
    "c = np.empty"
   ]
  },
  {
   "cell_type": "code",
   "execution_count": 15,
   "metadata": {},
   "outputs": [
    {
     "name": "stdout",
     "output_type": "stream",
     "text": [
      "[[0 0 0]\n",
      " [0 0 0]]\n"
     ]
    }
   ],
   "source": [
    "d = np.zeros_like(b)\n",
    "print(d)"
   ]
  },
  {
   "cell_type": "code",
   "execution_count": 16,
   "metadata": {},
   "outputs": [
    {
     "name": "stdout",
     "output_type": "stream",
     "text": [
      "[[ 1.  0.  0.  0.  0.]\n",
      " [ 0.  1.  0.  0.  0.]\n",
      " [ 0.  0.  1.  0.  0.]\n",
      " [ 0.  0.  0.  1.  0.]\n",
      " [ 0.  0.  0.  0.  1.]]\n"
     ]
    }
   ],
   "source": [
    "print(np.eye(5),dtype)"
   ]
  },
  {
   "cell_type": "code",
   "execution_count": null,
   "metadata": {
    "collapsed": true
   },
   "outputs": [],
   "source": [
    "array类似于range函数\n",
    "inspace"
   ]
  },
  {
   "cell_type": "markdown",
   "metadata": {},
   "source": [
    "## 数组的索引和切片"
   ]
  },
  {
   "cell_type": "markdown",
   "metadata": {},
   "source": [
    "- 一维数组的索引和切片"
   ]
  },
  {
   "cell_type": "code",
   "execution_count": 44,
   "metadata": {},
   "outputs": [
    {
     "name": "stdout",
     "output_type": "stream",
     "text": [
      "9\n",
      "[1 0 1 5]\n",
      "[9 3 0]\n"
     ]
    },
    {
     "data": {
      "text/plain": [
       "array([0, 8, 0, 4, 1, 0, 1, 5])"
      ]
     },
     "execution_count": 44,
     "metadata": {},
     "output_type": "execute_result"
    }
   ],
   "source": [
    "a = np.array([1,9,9,3,1,0,1,5])\n",
    "\n",
    "print(a[2])   #索引\n",
    "print(a[4:])\n",
    "print(a[1:-1:2])\n",
    "\n",
    "a[0:4] = 0,8,0,4 #通过下标修改元素的值\n",
    "a"
   ]
  },
  {
   "cell_type": "markdown",
   "metadata": {},
   "source": [
    "- <font color = 'blue'>注：与python列表不同的是，下标范围获取的数组是原数组的一个视图，所以<font color = 'red'>通过下标修改数组也修改了原数组</font></font>\n"
   ]
  },
  {
   "cell_type": "code",
   "execution_count": 45,
   "metadata": {},
   "outputs": [
    {
     "data": {
      "text/plain": [
       "array([0, 8, 0, 4, 1, 0, 1, 5])"
      ]
     },
     "execution_count": 45,
     "metadata": {},
     "output_type": "execute_result"
    }
   ],
   "source": [
    "a = np.array([1,9,9,3,1,0,1,5])\n",
    "\n",
    "b = a[0:4]\n",
    "b[:] = 0,8,0,4\n",
    "a"
   ]
  },
  {
   "cell_type": "markdown",
   "metadata": {},
   "source": [
    "- 使用整数序列对数组元素进行修改时，原数组不变"
   ]
  },
  {
   "cell_type": "code",
   "execution_count": 50,
   "metadata": {},
   "outputs": [
    {
     "data": {
      "text/plain": [
       "array([1, 9, 9, 3, 1, 0, 1, 5])"
      ]
     },
     "execution_count": 50,
     "metadata": {},
     "output_type": "execute_result"
    }
   ],
   "source": [
    "a = np.array([1,9,9,3,1,0,1,5])\n",
    "\n",
    "b = a[[0,1,2,3]]\n",
    "b[:] = 0,8,0,4\n",
    "a"
   ]
  },
  {
   "cell_type": "code",
   "execution_count": 64,
   "metadata": {},
   "outputs": [
    {
     "data": {
      "text/plain": [
       "array([1, 1, 9, 9, 1, 9, 1, 3])"
      ]
     },
     "execution_count": 64,
     "metadata": {},
     "output_type": "execute_result"
    }
   ],
   "source": [
    "a = np.array([1,9,9,3,1,0,1,5])\n",
    "\n",
    "# 索引\n",
    "b = a[np.array([False, True, False, True, False, True, False, True])] = 1,9,9,3 \n",
    "a"
   ]
  },
  {
   "cell_type": "markdown",
   "metadata": {},
   "source": [
    "2. 多维数组的索引"
   ]
  },
  {
   "cell_type": "code",
   "execution_count": 76,
   "metadata": {},
   "outputs": [
    {
     "name": "stdout",
     "output_type": "stream",
     "text": [
      "[[[ 0  1  2  3]\n",
      "  [ 4  5  6  7]\n",
      "  [ 8  9 10 11]]\n",
      "\n",
      " [[12 13 14 15]\n",
      "  [16 17 18 19]\n",
      "  [20 21 22 23]]]\n"
     ]
    },
    {
     "data": {
      "text/plain": [
       "23"
      ]
     },
     "execution_count": 76,
     "metadata": {},
     "output_type": "execute_result"
    }
   ],
   "source": [
    "# 索引\n",
    "a = np.arange(24).reshape((2,3,4))\n",
    "print(a)\n",
    "a[1,2,3]   # 返回一维二行三列的数，下标从0开始"
   ]
  },
  {
   "cell_type": "code",
   "execution_count": 78,
   "metadata": {},
   "outputs": [
    {
     "data": {
      "text/plain": [
       "array([ 7, 19])"
      ]
     },
     "execution_count": 78,
     "metadata": {},
     "output_type": "execute_result"
    }
   ],
   "source": [
    "# 切片\n",
    "a[:, 1, 3]"
   ]
  },
  {
   "cell_type": "markdown",
   "metadata": {},
   "source": [
    "# numpy之广播"
   ]
  },
  {
   "cell_type": "code",
   "execution_count": 11,
   "metadata": {},
   "outputs": [
    {
     "name": "stdout",
     "output_type": "stream",
     "text": [
      "[[10 20 30]\n",
      " [20 40 60]]\n",
      "[[11 12 13]\n",
      " [21 22 23]]\n"
     ]
    }
   ],
   "source": [
    "a = np.array([[10,10,10],[20,20,20]])\n",
    "b = np.array([1,2,3])                 # b会根据a广播成[[1,2,3],[1,2,3]]\n",
    "\n",
    "print(a*b) \n",
    "print(a+b)"
   ]
  },
  {
   "cell_type": "code",
   "execution_count": 1,
   "metadata": {
    "scrolled": true
   },
   "outputs": [
    {
     "data": {
      "text/plain": [
       "array([[ 0,  1,  2,  3,  4],\n",
       "       [10, 11, 12, 13, 14],\n",
       "       [20, 21, 22, 23, 24],\n",
       "       [30, 31, 32, 33, 34],\n",
       "       [40, 41, 42, 43, 44],\n",
       "       [50, 51, 52, 53, 54]])"
      ]
     },
     "execution_count": 1,
     "metadata": {},
     "output_type": "execute_result"
    }
   ],
   "source": [
    "import numpy as np\n",
    "np.arange(0,60,10).reshape(-1,1)+np.arange(0,5) #将数组倒置再与另一数组相加"
   ]
  },
  {
   "cell_type": "code",
   "execution_count": 6,
   "metadata": {},
   "outputs": [
    {
     "data": {
      "text/plain": [
       "array([ 0, 11, 22, 33, 44, 55])"
      ]
     },
     "execution_count": 6,
     "metadata": {},
     "output_type": "execute_result"
    }
   ],
   "source": [
    "np.arange(0,60,10)+ np.arange(0,6) #不将数组倒置便按位相加"
   ]
  },
  {
   "cell_type": "markdown",
   "metadata": {
    "collapsed": true
   },
   "source": [
    "# numpy之数组的操作"
   ]
  },
  {
   "cell_type": "markdown",
   "metadata": {},
   "source": [
    "#  一、反转操作\n",
    "- np.reshape(order = 'C','F','A')\n",
    "C：简单来说就是横着读，横着写\n",
    "F：竖着读，竖着写\n",
    "A：如果原数组a按照F存储的话，生成效果为F；否则为C\n",
    "- np.ndarray.flatten()\n",
    "- np.ndarray.T()"
   ]
  },
  {
   "cell_type": "code",
   "execution_count": 5,
   "metadata": {},
   "outputs": [
    {
     "name": "stdout",
     "output_type": "stream",
     "text": [
      "[[ 1  2  3  4]\n",
      " [ 4  5  6  7]\n",
      " [ 7  8  9 10]]\n",
      "[[ 1  2  3]\n",
      " [ 4  4  5]\n",
      " [ 6  7  7]\n",
      " [ 8  9 10]]\n",
      "[[ 1  5  9]\n",
      " [ 4  8  4]\n",
      " [ 7  3  7]\n",
      " [ 2  6 10]]\n"
     ]
    }
   ],
   "source": [
    "import numpy as np\n",
    "\n",
    "a = np.array([[1,2,3,4],[4,5,6,7],[7,8,9,10]])\n",
    "print(a)\n",
    "\n",
    "b = a.reshape(4,3)\n",
    "print(b)\n",
    "\n",
    "b1 = a.reshape(4,3,order='F')\n",
    "print(b1)"
   ]
  },
  {
   "cell_type": "markdown",
   "metadata": {},
   "source": [
    "- np.ndarray.flat  生成迭代器\n",
    "- np.ndarray.flatten\n",
    "\n",
    "常用order{'C','F'}"
   ]
  },
  {
   "cell_type": "code",
   "execution_count": 3,
   "metadata": {},
   "outputs": [
    {
     "name": "stdout",
     "output_type": "stream",
     "text": [
      "[ 1  2  3  4  4  5  6  7  7  8  9 10]\n",
      "[ 1  4  7  2  5  8  3  6  9  4  7 10]\n"
     ]
    }
   ],
   "source": [
    "a = np.array([[1,2,3,4],[4,5,6,7],[7,8,9,10]])\n",
    "c = a.flatten()\n",
    "print(c)\n",
    "c1 = a.flatten(order = 'F')\n",
    "print(c1)"
   ]
  },
  {
   "cell_type": "code",
   "execution_count": 4,
   "metadata": {},
   "outputs": [
    {
     "name": "stdout",
     "output_type": "stream",
     "text": [
      "[[ 1  2  3  4]\n",
      " [ 4  5  6  7]\n",
      " [ 7  8  9 10]]\n",
      "[[ 1  4  7]\n",
      " [ 2  5  8]\n",
      " [ 3  6  9]\n",
      " [ 4  7 10]]\n"
     ]
    }
   ],
   "source": [
    "a = np.array([[1,2,3,4],[4,5,6,7],[7,8,9,10]])\n",
    "print(a)\n",
    "print(a.T)"
   ]
  },
  {
   "cell_type": "markdown",
   "metadata": {},
   "source": [
    "# 连接操作\n",
    "- np.concatenate()\n",
    "- np.stack()\n",
    "- np.vstack()\n",
    "- np.hstack()"
   ]
  },
  {
   "cell_type": "code",
   "execution_count": 6,
   "metadata": {},
   "outputs": [
    {
     "name": "stdout",
     "output_type": "stream",
     "text": [
      "[[ 0  1  2]\n",
      " [ 3  4  5]\n",
      " [ 7  8  9]\n",
      " [10 11 12]]\n",
      "-------我是分割线---------\n",
      "[[ 0  1  2  7  8  9]\n",
      " [ 3  4  5 10 11 12]]\n"
     ]
    }
   ],
   "source": [
    "# np.concatenate()\n",
    "# axis = 0 行\n",
    "# axis = 1 列\n",
    "a = np.arange(6).reshape(2,3)\n",
    "b = np.array([[7,8,9],[10,11,12]])\n",
    "\n",
    "print(np.concatenate((a,b)))\n",
    "print('-------我是分割线---------')\n",
    "print(np.concatenate((a,b),axis = 1))"
   ]
  },
  {
   "cell_type": "code",
   "execution_count": 16,
   "metadata": {},
   "outputs": [
    {
     "name": "stdout",
     "output_type": "stream",
     "text": [
      "[[[ 0  1  2]\n",
      "  [ 3  4  5]]\n",
      "\n",
      " [[ 7  8  9]\n",
      "  [10 11 12]]]\n",
      "-------我是分割线---------\n",
      "[[[ 0  1  2]\n",
      "  [ 7  8  9]]\n",
      "\n",
      " [[ 3  4  5]\n",
      "  [10 11 12]]]\n"
     ]
    }
   ],
   "source": [
    "import numpy as np\n",
    "\n",
    "a = np.arange(6).reshape(2,3)\n",
    "b = np.array([[7,8,9],[10,11,12]])\n",
    "\n",
    "print(np.stack((a,b),axis = 0))      #沿着0轴（行）堆叠矩阵\n",
    "print('-------我是分割线---------')\n",
    "print(np.stack((a,b),axis = 1))      #沿着1轴（列）堆叠矩阵"
   ]
  },
  {
   "cell_type": "code",
   "execution_count": 18,
   "metadata": {},
   "outputs": [
    {
     "name": "stdout",
     "output_type": "stream",
     "text": [
      "[[ 0  1  2  7  8  9]\n",
      " [ 3  4  5 10 11 12]]\n"
     ]
    }
   ],
   "source": [
    "import numpy as np\n",
    "\n",
    "a = np.arange(6).reshape(2,3)\n",
    "b = np.array([[7,8,9],[10,11,12]])\n",
    "\n",
    "print(np.hstack((a,b))) # == np.concatenate((a,b),axis = 1)    列变宽==长胖,作用于列"
   ]
  },
  {
   "cell_type": "code",
   "execution_count": 11,
   "metadata": {},
   "outputs": [
    {
     "name": "stdout",
     "output_type": "stream",
     "text": [
      "[[ 0  1  2]\n",
      " [ 3  4  5]\n",
      " [ 7  8  9]\n",
      " [10 11 12]]\n",
      "-------我是分割线---------\n",
      "[[ 0  1  2  7  8  9]\n",
      " [ 3  4  5 10 11 12]]\n"
     ]
    }
   ],
   "source": [
    "import numpy as np\n",
    "#np. h/v + stack\n",
    "#np.hstack((a,b))  #长胖横向\n",
    "#np.vstack((a,b))  #长高纵向\n",
    "a = np.arange(6).reshape(2,3)\n",
    "b = np.array([[7,8,9],[10,11,12]])\n",
    "\n",
    "print(np.vstack((a,b))) # == np.concatenate((a,b),axis = 0)    行变高==长高,作用于行\n",
    "print('-------我是分割线---------')\n",
    "print(np.hstack((a,b))) # == np.concatenate((a,b),axis = 1)    列变宽==长胖,作用于列\n"
   ]
  },
  {
   "cell_type": "markdown",
   "metadata": {},
   "source": [
    "# 分割操作\n",
    "- np.split()\n",
    "- np.vsplit()\n",
    "- np.hsplit()"
   ]
  },
  {
   "cell_type": "code",
   "execution_count": 21,
   "metadata": {},
   "outputs": [
    {
     "name": "stdout",
     "output_type": "stream",
     "text": [
      "[array([0, 1, 2, 3]), array([4, 5, 6, 7]), array([ 8,  9, 10, 11])]\n"
     ]
    }
   ],
   "source": [
    "\n",
    "# np.split()  axis 为分割方向，默认为0\n",
    "import numpy as np\n",
    "\n",
    "a = np.arange(12)\n",
    "b = np.split(a,3)   #等量分成三份，前提保证能被整除\n",
    "print(b)\n"
   ]
  },
  {
   "cell_type": "code",
   "execution_count": 27,
   "metadata": {},
   "outputs": [
    {
     "name": "stdout",
     "output_type": "stream",
     "text": [
      "[array([0, 1, 2, 3]), array([4, 5, 6]), array([ 7,  8,  9, 10, 11])]\n",
      "-----------我是分割线------------\n",
      "[array([], dtype=int32), array([0, 1, 2, 3]), array([4, 5, 6]), array([ 7,  8,  9, 10, 11])]\n"
     ]
    }
   ],
   "source": [
    "b1 = np.split(a,[4,7])    #从索引4和7处分割（包括开始元素，不包括结束元素）\n",
    "print(b1)\n",
    "print('-----------我是分割线------------')\n",
    "b2 = np.split(a,[0,4,7])  #切完是4段，0前面为空\n",
    "print(b2)"
   ]
  },
  {
   "cell_type": "code",
   "execution_count": 32,
   "metadata": {
    "scrolled": true
   },
   "outputs": [
    {
     "name": "stdout",
     "output_type": "stream",
     "text": [
      "[[ 0  1  2  3]\n",
      " [ 4  5  6  7]\n",
      " [ 8  9 10 11]\n",
      " [12 13 14 15]]\n",
      "-----------我是分割线------------\n",
      "[array([[ 0,  1],\n",
      "       [ 4,  5],\n",
      "       [ 8,  9],\n",
      "       [12, 13]]), array([[ 2,  3],\n",
      "       [ 6,  7],\n",
      "       [10, 11],\n",
      "       [14, 15]])]\n"
     ]
    }
   ],
   "source": [
    "# np.hsplit()\n",
    "\n",
    "a = np.arange(16).reshape(4,4) \n",
    "print(a)\n",
    "\n",
    "print('-----------我是分割线------------')\n",
    "b = np.hsplit(a,2)   #从第二列分开\n",
    "print(b)"
   ]
  },
  {
   "cell_type": "code",
   "execution_count": 33,
   "metadata": {},
   "outputs": [
    {
     "name": "stdout",
     "output_type": "stream",
     "text": [
      "[[ 0  1  2  3]\n",
      " [ 4  5  6  7]\n",
      " [ 8  9 10 11]\n",
      " [12 13 14 15]]\n",
      "-----------我是分割线------------\n",
      "[array([[0, 1, 2, 3],\n",
      "       [4, 5, 6, 7]]), array([[ 8,  9, 10, 11],\n",
      "       [12, 13, 14, 15]])]\n"
     ]
    }
   ],
   "source": [
    "a = np.arange(16).reshape(4,4) \n",
    "print(a)\n",
    "\n",
    "print('-----------我是分割线------------')\n",
    "b1 = np.vsplit(a,2)  #从第二行分开\n",
    "print(b1)"
   ]
  },
  {
   "cell_type": "markdown",
   "metadata": {},
   "source": [
    "# 其他操作\n",
    "- np.resize()\n",
    "- np.append()\n",
    "- np.insert()\n",
    "- np.delete()\n",
    "- np.unique()"
   ]
  },
  {
   "cell_type": "code",
   "execution_count": 70,
   "metadata": {},
   "outputs": [
    {
     "name": "stdout",
     "output_type": "stream",
     "text": [
      "[[0 1 2 3]\n",
      " [4 5 6 7]\n",
      " [8 9 0 1]]\n"
     ]
    }
   ],
   "source": [
    "# np.resize(arr, new_shape)\n",
    "\n",
    "a = np.arange(10).reshape(2,5)\n",
    "b = np.resize(a,(3,4))         #转换成3行4列的矩阵\n",
    "print(b)"
   ]
  },
  {
   "cell_type": "code",
   "execution_count": 43,
   "metadata": {},
   "outputs": [
    {
     "name": "stdout",
     "output_type": "stream",
     "text": [
      "[ 0  1  2  3  4  5  6  7  8  9 10 11 12]\n",
      "-----------我是分割线------------\n",
      "[[ 0  1  2  3  4]\n",
      " [ 5  6  7  8  9]\n",
      " [10 11 12 13 14]]\n",
      "-----------我是分割线------------\n",
      "[[ 0  1  2  3  4 10 11 12]\n",
      " [ 5  6  7  8  9 13 14 15]]\n"
     ]
    }
   ],
   "source": [
    "# np.append()\n",
    "a = np.arange(10).reshape(2,5)\n",
    "b = np.append(a,[10,11,12])    #不给axis插成一条龙   #[1,2,3,4,5,6,7,8,9,10,11,12]\n",
    "print(b)\n",
    "\n",
    "print('-----------我是分割线------------')\n",
    "b1 = np.append(a,[[10,11,12,13,14]],axis = 0)   #作用于行\n",
    "print(b1)  \n",
    "\n",
    "print('-----------我是分割线------------')\n",
    "b2 = np.append(a,[[10,11,12],[13,14,15]],axis = 1)   #作用于列\n",
    "print(b2)"
   ]
  },
  {
   "cell_type": "code",
   "execution_count": 48,
   "metadata": {},
   "outputs": [
    {
     "name": "stdout",
     "output_type": "stream",
     "text": [
      "[[1 2]\n",
      " [3 4]\n",
      " [5 6]]\n",
      "-----------我是分割线------------\n",
      "[[1 2]\n",
      " [8 9]\n",
      " [3 4]\n",
      " [5 6]]\n",
      "-----------我是分割线------------\n",
      "[[1 2]\n",
      " [8 9]\n",
      " [3 4]\n",
      " [5 6]]\n",
      "-----------我是分割线------------\n",
      "[[1 7 2]\n",
      " [3 8 4]\n",
      " [5 9 6]]\n"
     ]
    }
   ],
   "source": [
    "# np.insert(arr, obj, values, axis)\n",
    "\n",
    "a = np.array([[1,2],[3,4],[5,6]])\n",
    "print(a)\n",
    "\n",
    "print('-----------我是分割线------------')\n",
    "b = np.insert(a,2,[8,9])        #未传入axis参数，展开成一维数组[1,2,8,9,3,4,5,6,7]\n",
    "print(b1)\n",
    "\n",
    "print('-----------我是分割线------------')\n",
    "b1 = np.insert(a,1,[8,9],axis = 0)     #作用于行\n",
    "print(b1)\n",
    "\n",
    "print('-----------我是分割线------------')\n",
    "b2 = np.insert(a,1,[7,8,9],axis = 1)   #作用于列\n",
    "print(b2)"
   ]
  },
  {
   "cell_type": "code",
   "execution_count": 52,
   "metadata": {},
   "outputs": [
    {
     "name": "stdout",
     "output_type": "stream",
     "text": [
      "[[ 0  1  2  3]\n",
      " [ 4  5  6  7]\n",
      " [ 8  9 10 11]]\n",
      "-----------我是分割线------------\n",
      "[ 0  1  2  3  4  5  7  8  9 10 11]\n",
      "-----------我是分割线------------\n",
      "[[0 1 2 3]\n",
      " [4 5 6 7]]\n",
      "-----------我是分割线------------\n",
      "[[ 0  2  3]\n",
      " [ 4  6  7]\n",
      " [ 8 10 11]]\n"
     ]
    }
   ],
   "source": [
    "# np.delete()\n",
    "\n",
    "a = np.arange(12).reshape(3,4)\n",
    "print(a)\n",
    "\n",
    "print('-----------我是分割线------------')\n",
    "b = np.delete(a,6)                          #未给axis展开为一位数组， [0.1.2.3.4.5.7.8.9.10.11]\n",
    "print(b)\n",
    "\n",
    "print('-----------我是分割线------------')\n",
    "b1 = np.delete(a,2,axis = 0)                #删除第二行\n",
    "print(b1)\n",
    "\n",
    "print('-----------我是分割线------------')\n",
    "b2 = np.delete(a,1,axis = 1)                #删除第二列\n",
    "print(b2)"
   ]
  },
  {
   "cell_type": "code",
   "execution_count": 57,
   "metadata": {},
   "outputs": [
    {
     "name": "stdout",
     "output_type": "stream",
     "text": [
      "[0 1 2 3 4 5 6 7 8 9]\n"
     ]
    }
   ],
   "source": [
    "# np.unique()  去重并排序（从小到大）后输出\n",
    "a = np.array([1,2,3,3,4,5,5,6,7,7,7,8,9,0])\n",
    "\n",
    "b = np.unique(a)\n",
    "print(b)"
   ]
  },
  {
   "cell_type": "code",
   "execution_count": null,
   "metadata": {
    "collapsed": true
   },
   "outputs": [],
   "source": []
  },
  {
   "cell_type": "code",
   "execution_count": null,
   "metadata": {
    "collapsed": true
   },
   "outputs": [],
   "source": []
  }
 ],
 "metadata": {
  "kernelspec": {
   "display_name": "Python 3",
   "language": "python",
   "name": "python3"
  },
  "language_info": {
   "codemirror_mode": {
    "name": "ipython",
    "version": 3
   },
   "file_extension": ".py",
   "mimetype": "text/x-python",
   "name": "python",
   "nbconvert_exporter": "python",
   "pygments_lexer": "ipython3",
   "version": "3.7.4"
  }
 },
 "nbformat": 4,
 "nbformat_minor": 2
}
