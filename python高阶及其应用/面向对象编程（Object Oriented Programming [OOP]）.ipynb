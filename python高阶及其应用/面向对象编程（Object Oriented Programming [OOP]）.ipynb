{
 "cells": [
  {
   "cell_type": "markdown",
   "metadata": {},
   "source": [
    "# 1. 面向对象编程概述\n",
    "# 2. 实例对象属性\n",
    "# 3. 类对象属性\n",
    "# 4. 实例方法\n",
    "# 5. 函数装饰器\n",
    "# 6. 类方法\n",
    "# 7. 静态方法\n",
    "# 8. 访问控制\n",
    "# 9. 封装\n",
    "# 10. 继承\n",
    "# 11. 重写\n",
    "# 12. MRO\n",
    "# 13. 多态\n",
    "# 14. issubclass() 与 isinstance()\n",
    "# 15. type() 与 dir()\n",
    "# 16. 属性之增删改查\n",
    "# 17. 算数运载符重载\n",
    "# 18. str() 与 repr()\n",
    "# 19. __new__\n",
    "# 20. __getitem__()、__setitem__()、__delitem__()\n",
    "# 21. __call__()与callable()\n",
    "# 22. __doc__与__dict__\n",
    "# 23. 特殊属性之__slot__"
   ]
  },
  {
   "cell_type": "markdown",
   "metadata": {},
   "source": [
    "面向对象编程是一种编程方式，这种编程方式需要使用对象来实现\n",
    "## 1.1 对象的特征\n",
    "- 世间万物皆是对象\n",
    "- 每个对象都是唯一的\n",
    "- 对象具有属性和行为\n",
    "\t1. 对象的行为包括具有的功能及具体的实现\n",
    "- 对象具有状态\n",
    "- 对象分为类对象和实例对象两大类：\n",
    "\t 1. 类对象是具有相同属性和行为的实例对象的抽象\n",
    "    2. 类对象就是实例对象的模板，实例对象是由类对象创建出来的\n",
    "    3. 同一个类对象的所有实例对象具有相同的属性，表明它们的属性含义是相同的，但是它们的状态不一定相同，也就是户型不一定相同\n",
    "## 1.2 面向对象编程的大体步骤\n",
    "1. 抽象出类对象\n",
    "2. 抽象出类对象的属性\n",
    "3. 抽象出类对象的行为（方法）\n",
    "4. 根据类对象创建实例对象\n",
    "5. 通过实例对象访问属性和方法\n"
   ]
  },
  {
   "cell_type": "markdown",
   "metadata": {},
   "source": [
    "## 1.3定义类对象的语法格式\n",
    "class 类名(object):\n",
    "    #属性与方法\n",
    "    \n",
    "注：object表示该类对象继承自python内置的类对象object，python中所有的类对象都继承自一个统一的基类：object"
   ]
  },
  {
   "cell_type": "code",
   "execution_count": null,
   "metadata": {
    "collapsed": true
   },
   "outputs": [],
   "source": [
    "#1.3 \n",
    "#object不是参数，是父类，继承作用\n",
    "class Cat(object): #Cat是类对象\n",
    "    pass"
   ]
  },
  {
   "cell_type": "markdown",
   "metadata": {},
   "source": [
    "## 1.4 初识属性\n",
    "1. 构造方法：用两个双下划线表示的函数 \n",
    "def __init__(self):"
   ]
  },
  {
   "cell_type": "code",
   "execution_count": 1,
   "metadata": {
    "collapsed": true
   },
   "outputs": [],
   "source": [
    "#1.4 \n",
    "class Cat(object):\n",
    "    # 构造属性\n",
    "    def __init__(self, breed, name, sge, health): #第一个self必须写\n",
    "        self.breed = breed #品种\n",
    "        self.name = name\n",
    "        self.sge = sge\n",
    "        self.health = health"
   ]
  },
  {
   "cell_type": "markdown",
   "metadata": {},
   "source": [
    "## 1.5 初识类的方法\n",
    "行为（方法）是类中特殊的函数\n",
    "1. 类的方法与函数的区别\n",
    "    方法就是定义在类对象中的函数。\n",
    "    - 定义方法时，方法的第一个形参表示调用该方法的实例对象，第一个形参的名称通常是self，也可以是其它名称\n",
    "    - 调用方法时，系统自动将调用该方法的实例对象作为实参传递给第一个形参。第一个实参会传递给第二个形参，第二个实参会传递给第三个形参，以此类推"
   ]
  },
  {
   "cell_type": "code",
   "execution_count": null,
   "metadata": {
    "collapsed": true
   },
   "outputs": [],
   "source": [
    "#1.5 类的方法\n",
    "    def run(self):\n",
    "        print(\"Cat is running\")\n",
    "    def miao(self):\n",
    "        print(\"Cat is maioing\")\n",
    "    def eat(self):\n",
    "        print(\"Cat id eating\")"
   ]
  },
  {
   "cell_type": "markdown",
   "metadata": {},
   "source": [
    "## 1.6 根据类对象创建实例对象的语法格式为：\n",
    "    - 类名（[实参]）"
   ]
  },
  {
   "cell_type": "code",
   "execution_count": null,
   "metadata": {
    "collapsed": true
   },
   "outputs": [],
   "source": [
    "#1.6 根据类对象创建实例对象\n",
    "#cat是实例对象  Cat是类对象\n",
    "cat = Cat(\"波斯猫\",\"喵咪\", 1, \"健康\")\n",
    "print(cat.breed)\n",
    "cat.run()"
   ]
  },
  {
   "cell_type": "markdown",
   "metadata": {},
   "source": [
    "## 2.1 实例属性\n",
    "1. 实例对象所绑定的属性\n",
    "2. 绑定实例属性的方法\n",
    "    - 在类对象的内部（方法中）\n",
    "    语法格式：self.属性名 = 属性值\n",
    "    推荐在__init__中进行绑定，这样在创建实例对象后会自动调用特殊方法__init__对实例对象进行初始化，从而绑定实例属性。如果在其他方法中进行绑定，可能需要手动调用方法后才会绑定\n",
    "    - 在类对象外部\n",
    "    python是动态语言，所以在类对象创建之后可以对其动态地进行绑定\n",
    "    语法格式：实例对象.属性名 = 属性值\n",
    "    如果指定名称的实例属性已经存在，则是对类属性进行修改\n",
    "3. 访问实例属性的方式：\n",
    "    - 在类对象的内部（方法中）\n",
    "        语法格式：self.属性名\n",
    "    - 在类对象外部\n",
    "        语法格式：实例对象.属性名\n",
    "    添加前缀“self”或“实例对象”是为了表明实例属性被哪个实例对象所绑定\n",
    "## 2.2 实例对象. __dict__\n",
    "- 获得该实例对象所绑定的所有属性及其值的字典"
   ]
  },
  {
   "cell_type": "code",
   "execution_count": 1,
   "metadata": {
    "scrolled": true
   },
   "outputs": [
    {
     "name": "stdout",
     "output_type": "stream",
     "text": [
      "66\n"
     ]
    },
    {
     "ename": "AttributeError",
     "evalue": "'MyClass' object has no attribute 'ia2'",
     "output_type": "error",
     "traceback": [
      "\u001b[1;31m---------------------------------------------------------------------------\u001b[0m",
      "\u001b[1;31mAttributeError\u001b[0m                            Traceback (most recent call last)",
      "\u001b[1;32m<ipython-input-1-8bfd5e790cdc>\u001b[0m in \u001b[0;36m<module>\u001b[1;34m\u001b[0m\n\u001b[0;32m     20\u001b[0m \u001b[1;31m# 在类对象外部访问实例属性\u001b[0m\u001b[1;33m\u001b[0m\u001b[1;33m\u001b[0m\u001b[1;33m\u001b[0m\u001b[0m\n\u001b[0;32m     21\u001b[0m \u001b[0mmc\u001b[0m\u001b[1;33m.\u001b[0m\u001b[0mdo_sth3\u001b[0m\u001b[1;33m(\u001b[0m\u001b[1;33m)\u001b[0m\u001b[1;33m\u001b[0m\u001b[1;33m\u001b[0m\u001b[0m\n\u001b[1;32m---> 22\u001b[1;33m \u001b[0mmc\u001b[0m\u001b[1;33m.\u001b[0m\u001b[0mdo_sth2\u001b[0m\u001b[1;33m(\u001b[0m\u001b[1;33m)\u001b[0m\u001b[1;33m\u001b[0m\u001b[1;33m\u001b[0m\u001b[0m\n\u001b[0m\u001b[0;32m     23\u001b[0m \u001b[1;31m#直接运行mc.sth2()报错，要先调用有ia2值的do_another\u001b[0m\u001b[1;33m\u001b[0m\u001b[1;33m\u001b[0m\u001b[1;33m\u001b[0m\u001b[0m\n\u001b[0;32m     24\u001b[0m \u001b[0mmc\u001b[0m\u001b[1;33m.\u001b[0m\u001b[0mdo_another\u001b[0m\u001b[1;33m(\u001b[0m\u001b[1;33m)\u001b[0m\u001b[1;33m\u001b[0m\u001b[1;33m\u001b[0m\u001b[0m\n",
      "\u001b[1;32m<ipython-input-1-8bfd5e790cdc>\u001b[0m in \u001b[0;36mdo_sth2\u001b[1;34m(self)\u001b[0m\n\u001b[0;32m      8\u001b[0m         \u001b[0mprint\u001b[0m\u001b[1;33m(\u001b[0m\u001b[0mself\u001b[0m\u001b[1;33m.\u001b[0m\u001b[0mia1\u001b[0m\u001b[1;33m)\u001b[0m\u001b[1;33m\u001b[0m\u001b[1;33m\u001b[0m\u001b[0m\n\u001b[0;32m      9\u001b[0m     \u001b[1;32mdef\u001b[0m \u001b[0mdo_sth2\u001b[0m\u001b[1;33m(\u001b[0m\u001b[0mself\u001b[0m\u001b[1;33m)\u001b[0m\u001b[1;33m:\u001b[0m\u001b[1;33m\u001b[0m\u001b[1;33m\u001b[0m\u001b[0m\n\u001b[1;32m---> 10\u001b[1;33m         \u001b[0mprint\u001b[0m\u001b[1;33m(\u001b[0m\u001b[0mself\u001b[0m\u001b[1;33m.\u001b[0m\u001b[0mia2\u001b[0m\u001b[1;33m)\u001b[0m\u001b[1;33m\u001b[0m\u001b[1;33m\u001b[0m\u001b[0m\n\u001b[0m\u001b[0;32m     11\u001b[0m     \u001b[1;32mdef\u001b[0m \u001b[0mdo_another\u001b[0m\u001b[1;33m(\u001b[0m\u001b[0mself\u001b[0m\u001b[1;33m)\u001b[0m\u001b[1;33m:\u001b[0m\u001b[1;33m\u001b[0m\u001b[1;33m\u001b[0m\u001b[0m\n\u001b[0;32m     12\u001b[0m         \u001b[0mself\u001b[0m\u001b[1;33m.\u001b[0m\u001b[0mia2\u001b[0m \u001b[1;33m=\u001b[0m \u001b[1;36m56\u001b[0m\u001b[1;33m\u001b[0m\u001b[1;33m\u001b[0m\u001b[0m\n",
      "\u001b[1;31mAttributeError\u001b[0m: 'MyClass' object has no attribute 'ia2'"
     ]
    }
   ],
   "source": [
    "# 2.1 绑定实例属性\n",
    "class MyClass(object):\n",
    "    def __init__(self):\n",
    "        # 在类对象内部绑定实例属性\n",
    "        self.ia1 = 18\n",
    "    def do_sth1(self):\n",
    "        # 在类对象内部访问实例属性\n",
    "        print(self.ia1)\n",
    "    def do_sth2(self):\n",
    "        print(self.ia2)\n",
    "    def do_another(self):\n",
    "        self.ia2 = 56\n",
    "    def do_sth3(self):\n",
    "        print(self.ia3)\n",
    "#绑定（创建）实例对象\n",
    "mc = MyClass()\n",
    "\n",
    "# 在类对象外部绑定实例属性\n",
    "mc.ia3 = 66\n",
    "# 在类对象外部访问实例属性\n",
    "mc.do_sth3()\n",
    "mc.do_sth2()\n",
    "#直接运行mc.sth2()报错，要先调用有ia2值的do_another\n",
    "mc.do_another()\n",
    "\n",
    "#同一个类对象所绑定的另一个实例对象\n",
    "mc2 = MyClass()\n",
    "\n",
    "#2.2\n",
    "print(mc.__dict__)\n",
    "print(mc2.__dict__)\n"
   ]
  },
  {
   "cell_type": "markdown",
   "metadata": {},
   "source": [
    "## 3.1 类属性\n",
    "1. 类属性指的是类对象所绑定的属性\n",
    "2. 绑定类属性的方法：\n",
    "    - 在类对象的内部（方法外）\n",
    "    语法格式：属性名 = 属性值\n",
    "    - 在类对象外部\n",
    "    python是动态语言，所以在类对象创建之后可以对其动态地进行绑定\n",
    "    语法格式：类对象.属性名 = 属性值\n",
    "    如果指定名称的雷属性已经存在，则是对类属性进行修改\n",
    "    \n",
    "先访问实例对象再访问类对象"
   ]
  },
  {
   "cell_type": "code",
   "execution_count": 18,
   "metadata": {
    "scrolled": true
   },
   "outputs": [
    {
     "name": "stdout",
     "output_type": "stream",
     "text": [
      "88\n",
      "88\n",
      "99\n",
      "99\n",
      "99\n",
      "99\n"
     ]
    }
   ],
   "source": [
    "# 3.1\n",
    "class MyClass(object):\n",
    "    #在类对象内部（方法外）绑定类属性\n",
    "    ca1 = 66\n",
    "    def do_sth(self):\n",
    "        #在类对象内部（方法中）访问类属性\n",
    "        print(MyClass.ca1)\n",
    "    def do_another(self):\n",
    "        #在类对象内部（方法中）访问类属性\n",
    "        print(MyClass.ca2)\n",
    "mc = MyClass()\n",
    "#在类对象的外部绑定类属性\n",
    "MyClass.ca2 = 88\n",
    "print(MyClass.ca2)\n",
    "print(mc.ca2)\n",
    "#在类对象的外部修改类属性\n",
    "MyClass.ca2 = 99\n",
    "print(MyClass.ca2)\n",
    "print(mc.ca2)\n",
    "#在类对象外部调用类方法，使得在类对象内部访问类属性\n",
    "mc.do_another()"
   ]
  },
  {
   "cell_type": "markdown",
   "metadata": {
    "collapsed": true
   },
   "source": [
    "## 4.1 实例方法\n",
    "实例方法指只有实例对象才能调用的方法\n",
    "类对象不能直接调用实例对象\n",
    "\n",
    "实例对象调用实例方法的两种调用方式：\n",
    "    1.在类对象内部\n",
    "        语法格式：self.方法名([实参])\n",
    "    2.在类对象的外部\n",
    "        语法格式：实例对象.方法名([实参])\n",
    "注：1. 实例方法可以在实例对象或类对象创建以后绑定\n",
    "   2. 同一个类对象的不同实例对象之间绑定的实例方法不会相互影响，也就是说在一个实例对象绑定的实例方法不会在另一个实例对象里起作用\n",
    "   3. 想要让同一类对象中的实例对象都能够调用某一实例方法，可以给类对象绑定该实例方法"
   ]
  },
  {
   "cell_type": "code",
   "execution_count": 4,
   "metadata": {
    "scrolled": true
   },
   "outputs": [
    {
     "name": "stdout",
     "output_type": "stream",
     "text": [
      "1 2\n"
     ]
    }
   ],
   "source": [
    "#4.1 实例方法\n",
    "class MyClass(object):\n",
    "    #在类对象中定义实例方法\n",
    "    def im1(self, p1, p2):\n",
    "        print(p1,p2)\n",
    "    def im2(self):\n",
    "        #在类对象内部调用实例方法\n",
    "        self.im1(1,2)\n",
    "mc = MyClass()\n",
    "#在类对象外部调用实例方法\n",
    "mc.im1(1,2)\n",
    "\n",
    "# 注1\n",
    "\n",
    "#定义一个实例方法\n",
    "def do_sth(self, a, b):\n",
    "    print(a,b)\n",
    "    \n",
    "#导入标准库types中的类MethodType\n",
    "from types import MethodType\n",
    "#给实例对象mc动态地绑定实例方法\n",
    "mc.do_sth = MethodType(do_sth, mc)\n",
    "#调用绑定的实例方法\n",
    "mc.do_sth(1, 2) #do_sth()被调用了\n"
   ]
  },
  {
   "cell_type": "code",
   "execution_count": 3,
   "metadata": {},
   "outputs": [
    {
     "name": "stdout",
     "output_type": "stream",
     "text": [
      "1 2\n",
      "im3()被调用了\n",
      "im3()被调用了\n"
     ]
    }
   ],
   "source": [
    "\n",
    "#注3\n",
    "\n",
    "#创建另一个实例对象\n",
    "mc2 = MyClass()\n",
    "\n",
    "def im3(self):\n",
    "    print(\"im3()被调用了\")\n",
    "\n",
    "#给类对象动态地绑定实例方法\n",
    "MyClass.im3 = im3\n",
    "\n",
    "#一个实例对象可以调用\n",
    "mc.im3()\n",
    "#另一个实例对象可以调用\n",
    "mc2.im3()"
   ]
  },
  {
   "cell_type": "markdown",
   "metadata": {},
   "source": [
    "## 5.1 函数装饰器\n",
    "    希望在不改变函数代码的前提下，为该函数增加额外的功能，那么就可以使用装饰器来装饰该函数\n",
    "    装饰器是一个函数，装饰器接收一个函数作为参数（传入的实参是被装饰的函数）\n",
    "    \n",
    "    装饰器内部嵌套定义另外一个函数，内函数中会引用装饰器的参数，并且装饰器的返回值是内函数\n",
    "    为了让内函数接收任意类型的参数，将内函数的形参定义为（*args, **kwargs）\n",
    "    在函数中，首先完成为被装饰函数添加的新功能，然后调用被装饰的函数\n",
    "    吧装饰器应用到被装饰函数的语法为：在被装饰函数的前面添加“@装饰器的函数名”"
   ]
  },
  {
   "cell_type": "code",
   "execution_count": null,
   "metadata": {
    "collapsed": true
   },
   "outputs": [],
   "source": [
    "# 5.1\n",
    "\n",
    "def notice(func):\n",
    "    def wrappper(*args,**kwargs):\n",
    "        print('......')\n",
    "        print('公告：')\n",
    "        return func(*args, **kwargs) #返回装饰函数\n",
    "    return wrapper\n",
    "\n",
    "#应用\n",
    "@notice \n",
    "== add = notice(add)\n"
   ]
  },
  {
   "cell_type": "markdown",
   "metadata": {},
   "source": [
    "## 6.1类方法\n",
    "类方法是类对象中使用装饰器classmethod进行装饰的方法\n",
    "在类对象中定义类方法时，必须会用装饰器@classmethod进行装饰\n",
    "第一形参通常是cls\n",
    "在类对象中定义类方法的语法：\n",
    "@classmethod\n",
    "def 函数名(cls)\n",
    "调用类方法的三种方法：\n",
    "1. 通过类对象调用类方法\n",
    "MyClass.class_func('Hi','everyone!')\n",
    "2. 通过实例对象调用类方法\n",
    "mc = MyClass()\n",
    "mc.class_func(1,2)\n",
    "3. 在类对象内部调用类方法\n",
    "cls.class_func(1,2)"
   ]
  },
  {
   "cell_type": "code",
   "execution_count": null,
   "metadata": {
    "collapsed": true
   },
   "outputs": [],
   "source": [
    "# 6.1\n",
    "class MyClass(object):\n",
    "    #在类对象中定义类方法\n",
    "    @classmethod\n",
    "    def class_func(cls, a, b):#cls == self\n",
    "        print(a, b)\n",
    "        #在类对象内部调用类方法\n",
    "        cls.class_func(1,2)\n",
    "        #or\n",
    "        MyClass.class_func_1(1,2)\n",
    "#通过类对象调用类方法\n",
    "MyClass.class_func('hi','everyone')\n",
    "#通过实例对象调用类方法\n",
    "mc = MyClass()\n",
    "mc.class_func(1,2)"
   ]
  },
  {
   "cell_type": "markdown",
   "metadata": {
    "collapsed": true
   },
   "source": [
    "# 7. 静态方法\n",
    "类对象的静态方法只是一个普通函数(所以对第一形参没有要求)\n",
    "在类对象中定义静态方法时，必须会用装饰器@staticmethod进行装饰\n",
    "1. 静态方法可以被类对象所调用：\n",
    "    语法格式：\n",
    "    类对象.方法名([实参])/cla.方法名([实参])\n",
    "2. 静态方法可以被实例对象所调用：\n",
    "    语法格式：\n",
    "    实例对象.方法名([实参])/self.([实参])\n",
    "注：调用静态函数与调用普通函数是一样的"
   ]
  },
  {
   "cell_type": "code",
   "execution_count": null,
   "metadata": {
    "collapsed": true
   },
   "outputs": [],
   "source": [
    "class MyClass(object):\n",
    "    @staticmethod\n",
    "    def sm(p1,p2):\n",
    "        print(p1,p2)\n",
    "#类对象调用静态方法    \n",
    "MyClass.sm(1,2)\n",
    "#实例对象调用静态方法\n",
    "mc = MyClass()\n",
    "mc.sm(1,2)"
   ]
  },
  {
   "cell_type": "markdown",
   "metadata": {},
   "source": [
    "# 8. 访问控制\n",
    "访问控制指：控制类对象的属性和方法在类对象的外部是否可以直接访问\n",
    "如何设置访问控制：\n",
    "在类对象的某个属性或者方法前面添加两个下划线，那么在类对象的外部就不能 直接访问该属性或者方法了\n",
    "??如何直接访问设置访问控制后的属性或方法\n"
   ]
  },
  {
   "cell_type": "code",
   "execution_count": 5,
   "metadata": {},
   "outputs": [
    {
     "ename": "AttributeError",
     "evalue": "'MyClass' object has no attribute 'MyClass__pim'",
     "output_type": "error",
     "traceback": [
      "\u001b[1;31m---------------------------------------------------------------------------\u001b[0m",
      "\u001b[1;31mAttributeError\u001b[0m                            Traceback (most recent call last)",
      "\u001b[1;32m<ipython-input-5-940a1ce3678b>\u001b[0m in \u001b[0;36m<module>\u001b[1;34m()\u001b[0m\n\u001b[0;32m      5\u001b[0m         \u001b[0mprint\u001b[0m\u001b[1;33m(\u001b[0m\u001b[1;34m\"__pim()被调用了\"\u001b[0m\u001b[1;33m)\u001b[0m\u001b[1;33m\u001b[0m\u001b[0m\n\u001b[0;32m      6\u001b[0m \u001b[0mmc\u001b[0m \u001b[1;33m=\u001b[0m \u001b[0mMyClass\u001b[0m\u001b[1;33m(\u001b[0m\u001b[1;33m)\u001b[0m\u001b[1;33m\u001b[0m\u001b[0m\n\u001b[1;32m----> 7\u001b[1;33m \u001b[0mprint\u001b[0m\u001b[1;33m(\u001b[0m\u001b[0mmc\u001b[0m\u001b[1;33m.\u001b[0m\u001b[0mMyClass__pim\u001b[0m\u001b[1;33m(\u001b[0m\u001b[1;33m)\u001b[0m\u001b[1;33m)\u001b[0m\u001b[1;33m\u001b[0m\u001b[0m\n\u001b[0m",
      "\u001b[1;31mAttributeError\u001b[0m: 'MyClass' object has no attribute 'MyClass__pim'"
     ]
    }
   ],
   "source": [
    "class MyClass(object):\n",
    "    def __init__(self):\n",
    "        self.__pia = 18\n",
    "    def __pim(self):\n",
    "        print(\"__pim()被调用了\")\n",
    "mc = MyClass()\n",
    "print(mc.MyClass__pim())"
   ]
  },
  {
   "cell_type": "markdown",
   "metadata": {
    "collapsed": true
   },
   "source": [
    "# 9. 封装\n",
    "1. 含义：\n",
    "    将数据（属性）和行为（方法）包装到类对象中。在方法内部对属性进行操作，在类对象的外部调用方法，无需关心方法内部的具体细节，从而隔离了复杂度。\n",
    "    在类对象内部通过访问控制吧某些属性和方法隐藏起来，不允许在类对象的外部直接访问，而是在类对象的内部对外提供公开的接口方法以访问隐藏的信息，对隐藏的信息进行保护。"
   ]
  },
  {
   "cell_type": "code",
   "execution_count": 2,
   "metadata": {},
   "outputs": [
    {
     "name": "stdout",
     "output_type": "stream",
     "text": [
      "90\n",
      "88\n"
     ]
    }
   ],
   "source": [
    "class Student(object):\n",
    "    def __init__(self):\n",
    "        #隐藏属性\n",
    "        self.__score = 90\n",
    "    #提供接口\n",
    "    def get_score(self):\n",
    "        return self.__score\n",
    "    def set_score(self,score):\n",
    "        if 0 <= score <= 100:\n",
    "            self.__score = score\n",
    "        else:\n",
    "            raise ValueError(\"成绩在0-100之间\") #抛出异常\n",
    "#输出90\n",
    "s = Student()\n",
    "print(s.get_score())\n",
    "\n",
    "#输出88\n",
    "s.set_score(88)\n",
    "print(s.get_score())\n"
   ]
  },
  {
   "cell_type": "markdown",
   "metadata": {},
   "source": [
    "# 10. 继承\n",
    "    当几个了类对象中有共同的代码\n",
    "提高代码利用率\n",
    "只继承了一个类叫做单继承，继承多个类叫做多继承\n",
    "单继承：子类只有一个直接父类\n",
    "    语法格式：\n",
    "    class ChildClass(ParentClass)\n",
    "            pass\n",
    "多继承：子类有多个直接父类\n",
    "    语法格式：\n",
    "    class ChildClass(ParentClass1,ParentClass2,...)\n",
    "            pass\n",
    "子类会继承所有父类（包括所有直接父类和间接父类）的所有属性和方法\n",
    "子类可以添加父类中没有的方法和属性"
   ]
  },
  {
   "cell_type": "code",
   "execution_count": 4,
   "metadata": {},
   "outputs": [
    {
     "name": "stdout",
     "output_type": "stream",
     "text": [
      "吃饭\n",
      "喝水\n",
      "游泳\n",
      "吃饭\n",
      "喝水\n",
      "飞\n"
     ]
    }
   ],
   "source": [
    "class Animal(object):\n",
    "    def eat(self):\n",
    "        print(\"吃饭\")\n",
    "    def drink(self):\n",
    "        print(\"喝水\")\n",
    "class Dog(Animal):\n",
    "    def swim(self):\n",
    "        print(\"游泳\")\n",
    "dog = Dog()\n",
    "dog.eat()\n",
    "dog.drink()\n",
    "dog.swim()\n",
    "class Bird(Animal):\n",
    "    def fly(self):\n",
    "        print(\"飞\")\n",
    "bird = Bird()\n",
    "bird.eat()\n",
    "bird.drink()\n",
    "bird.fly()"
   ]
  },
  {
   "cell_type": "markdown",
   "metadata": {},
   "source": [
    "# 11. 重写\n",
    "为什么要重写？\n",
    "    如果子类对父类的某个属性或方法不满意，可以在子类中对其重写从而提供自定义的实现\n",
    "重写的方式：在子类中定义与父类中同名的属性或方法（包括装饰器）\n",
    "子类重写父类属性后，通过子类或其实力对象只能访问子类汇总重写的属性（或方法），无法访问父类中被重写的属性（或方法）\n",
    "父类中被重写的方法xxx()，在子类重谢后的方法中可以通过super().xxx()进行调用\n",
    "\n",
    "调用指定父类被重写的方法：可以给super()传入两个实参，obj对应类对象的MRO中，a_type**后面**那个类对象\n",
    "    super(a_type,obj)\n",
    "    a_type：类对象\n",
    "    obj：实例对象"
   ]
  },
  {
   "cell_type": "code",
   "execution_count": 9,
   "metadata": {},
   "outputs": [
    {
     "name": "stdout",
     "output_type": "stream",
     "text": [
      "__init__被调用了（父类）\n",
      "__init__被调用了（子类）\n",
      "ca（子类）\n",
      "ca（子类）\n",
      "im()被调用了（父类）\n",
      "im()被调用了（子类）\n",
      "__init__被调用了（父类）\n",
      "__init__被调用了（子类）\n",
      "cm()被调用了（父类）\n",
      "cm()被调用了（子类）\n"
     ]
    }
   ],
   "source": [
    "class Parent(object):\n",
    "    #定义类属性\n",
    "    ca = \"ca（父类）\"\n",
    "    # 定义构造方法\n",
    "    def __init__(self):\n",
    "        print(\"__init__被调用了（父类）\")\n",
    "    # 定义实例方法\n",
    "    def im(self):\n",
    "        print(\"im()被调用了（父类）\")\n",
    "    # 定义类方法\n",
    "    @classmethod\n",
    "    def cm(self):\n",
    "        print(\"cm()被调用了（父类）\")\n",
    "class Child(Parent):\n",
    "    ca = \"ca（子类）\"\n",
    "    def __init__(self):\n",
    "        # 调用父类被重写的方法\n",
    "        super().__init__()\n",
    "        # 重写父类方法\n",
    "        print(\"__init__被调用了（子类）\")\n",
    "    def im(self):\n",
    "        super().im()\n",
    "        print(\"im()被调用了（子类）\")\n",
    "    @classmethod\n",
    "    def cm(self):\n",
    "        super().cm()\n",
    "        print(\"cm()被调用了（子类）\")\n",
    "cc = Child()    \n",
    "print(Child.ca)\n",
    "print(cc.ca)\n",
    "cc.im()\n",
    "Child()\n",
    "cc.cm()"
   ]
  },
  {
   "cell_type": "markdown",
   "metadata": {},
   "source": [
    "# MRO 方法解析顺序\n",
    "----Method Resolution Order\n",
    "MRO指的是对于一颗类继承树，当调用最底层类对象所对应实例对象的方法时，python解释器在类继承树上搜索方法的顺序\n",
    "继承关系复杂时可以通过mro()或__mro__这个方法来查询获得这棵类继承树的MRO\n",
    "从下到上，从左到右\n"
   ]
  },
  {
   "cell_type": "code",
   "execution_count": 14,
   "metadata": {},
   "outputs": [
    {
     "name": "stdout",
     "output_type": "stream",
     "text": [
      "B.f\n",
      "A.f\n",
      "[<class '__main__.D'>, <class '__main__.B'>, <class '__main__.C'>, <class '__main__.A'>, <class 'object'>]\n",
      "(<class '__main__.D'>, <class '__main__.B'>, <class '__main__.C'>, <class '__main__.A'>, <class 'object'>)\n"
     ]
    }
   ],
   "source": [
    "class A(object):\n",
    "    def f(self):\n",
    "        print(\"A.f\")\n",
    "\n",
    "class B(A):\n",
    "    def f(self):\n",
    "        print(\"B.f\")\n",
    "        \n",
    "class C(A):\n",
    "    def f(self):\n",
    "        print(\"C.f\")\n",
    "\n",
    "class D(B,C):\n",
    "    #调用父类\n",
    "    def f(self):\n",
    "        super().f()   \n",
    "        \n",
    "class E(B,C):\n",
    "    #调用指定父类\n",
    "    def f(self):\n",
    "        super(C,self).f()   \n",
    "\n",
    "d = D()\n",
    "d.f()\n",
    "e = E()\n",
    "e.f()\n",
    "\n",
    "print(D.mro())\n",
    "print(D.__mro__)"
   ]
  },
  {
   "cell_type": "markdown",
   "metadata": {
    "collapsed": true
   },
   "source": [
    "# 13. 多态 -- 在不考虑对象类型的情况下使用\n",
    "- 指未知变量所引用对象的类型，仍可以通过这个变量调用方法，在运行过程中根据变量引用对象类型，动态决定调用哪个对象中的方法\n",
    "注：如果子类中不存在指定名称的方法，回到父类中去查找，如果在父类中找到了，则调用父类中的方法"
   ]
  },
  {
   "cell_type": "code",
   "execution_count": 16,
   "metadata": {},
   "outputs": [
    {
     "name": "stdout",
     "output_type": "stream",
     "text": [
      "do_sth() in ParentClass\n",
      "do_sth() in ParentClass\n"
     ]
    }
   ],
   "source": [
    "class ParentClass(object):\n",
    "    def do_sth(self):\n",
    "        print(\"do_sth() in ParentClass\")\n",
    "\n",
    "class ChildClass(object):\n",
    "    def do_sth(self):\n",
    "        print(\"do_sth() in ChildClass\")\n",
    "\n",
    "#子类诶有将去父类查找\n",
    "class ChildClass2(ParentClass):\n",
    "    pass\n",
    "\n",
    "def f(parent):\n",
    "    parent.do_sth()\n",
    "    \n",
    "f(ParentClass())\n",
    "f(ChildClass2())"
   ]
  },
  {
   "cell_type": "markdown",
   "metadata": {
    "collapsed": true
   },
   "source": [
    "# 14. issubclass() 与 isinstance()\n",
    "issubclass()用于判断类对象与类对象之间的关系\n",
    "isinstance()用于判断实例对象与类对象之间的关系\n",
    "\n",
    "issucclass接受两个参数：\n",
    "    第一个实参是类对象\n",
    "    第二个实参是类对象或实例对象组成的元组\n",
    "    \n",
    "第二个实参是类对象时，如果第一个类对象是第二个实参的子类则返回TRUE\n",
    "当第二个实参是类对象组成的元组时，如果第一个实参是第二个实参中任意一个类对象的子类则返回TRUE\n",
    "\n",
    "isinstance接受两个参数：\n",
    "    第一个是实例对象\n",
    "    第二个是类对象或类对象组成的元组\n",
    "    \n",
    "但第二个实参是类对象时，如果第一个实参是第二个实参的实例对象或子类的实例对象，则返回TURE\n",
    "第二个实参是类对象组成的元组时，"
   ]
  },
  {
   "cell_type": "code",
   "execution_count": 7,
   "metadata": {},
   "outputs": [
    {
     "data": {
      "text/plain": [
       "True"
      ]
     },
     "execution_count": 7,
     "metadata": {},
     "output_type": "execute_result"
    }
   ],
   "source": [
    "class A(object):\n",
    "    pass\n",
    "class B(object):\n",
    "    pass\n",
    "class C(object):\n",
    "    pass\n",
    "class D(A):\n",
    "    pass\n",
    "issubclass(D,A)\n",
    "issubclass(A,B)\n",
    "issubclass(D, (A, B, C))\n",
    "issubclass(D, (B, C))\n",
    "\n",
    "isinstance(D(), D)\n",
    "isinstance(D(), B)\n",
    "isinstance(D(), A)\n",
    "isinstance(D(), (B,C))\n",
    "isinstance(D(), (A,B,C))"
   ]
  },
  {
   "cell_type": "markdown",
   "metadata": {},
   "source": [
    "# 15. type()与dir()"
   ]
  },
  {
   "cell_type": "markdown",
   "metadata": {},
   "source": [
    "## 1. type()\n",
    "用于获得指定对象的类型\n",
    "\n",
    "实例对象的类型就是其对应的类对象\n",
    "类对象的类型是type，类对象是type的实例对象\n",
    "\n",
    "自定义函数的类型是function\n",
    "内置函数的类型是builtin_function_or_method\n",
    "\n",
    "可以用==判断某个对象的类型是指定的类型（只适用于基本数据类型）\n",
    "对于基本数据，可以直接用其对应的类名；不是基本数据类型需要使用标准库中的模块types中定义的变量"
   ]
  },
  {
   "cell_type": "code",
   "execution_count": 13,
   "metadata": {
    "scrolled": false
   },
   "outputs": [
    {
     "name": "stdout",
     "output_type": "stream",
     "text": [
      "<class '__main__.MyClass'>\n",
      "<class 'type'>\n",
      "<class 'str'>\n",
      "<class 'type'>\n",
      "<class 'function'>\n",
      "<class 'builtin_function_or_method'>\n",
      "<class 'list'>\n",
      "True\n"
     ]
    },
    {
     "ename": "NameError",
     "evalue": "name 'function' is not defined",
     "output_type": "error",
     "traceback": [
      "\u001b[1;31m---------------------------------------------------------------------------\u001b[0m",
      "\u001b[1;31mNameError\u001b[0m                                 Traceback (most recent call last)",
      "\u001b[1;32m<ipython-input-13-9963405ff686>\u001b[0m in \u001b[0;36m<module>\u001b[1;34m()\u001b[0m\n\u001b[0;32m     25\u001b[0m \u001b[1;33m\u001b[0m\u001b[0m\n\u001b[0;32m     26\u001b[0m \u001b[1;31m#非基本数据类型\u001b[0m\u001b[1;33m\u001b[0m\u001b[1;33m\u001b[0m\u001b[0m\n\u001b[1;32m---> 27\u001b[1;33m \u001b[0mprint\u001b[0m\u001b[1;33m(\u001b[0m\u001b[0mtype\u001b[0m\u001b[1;33m(\u001b[0m\u001b[0mdo_sth\u001b[0m\u001b[1;33m)\u001b[0m \u001b[1;33m==\u001b[0m \u001b[0mfunction\u001b[0m\u001b[1;33m)\u001b[0m  \u001b[1;31m#报错\u001b[0m\u001b[1;33m\u001b[0m\u001b[0m\n\u001b[0m\u001b[0;32m     28\u001b[0m \u001b[1;33m\u001b[0m\u001b[0m\n\u001b[0;32m     29\u001b[0m \u001b[1;32mimport\u001b[0m \u001b[0mtypes\u001b[0m\u001b[1;33m\u001b[0m\u001b[0m\n",
      "\u001b[1;31mNameError\u001b[0m: name 'function' is not defined"
     ]
    }
   ],
   "source": [
    "#实例对象的类型就是其对应的类对象\n",
    "class MyClass(object):\n",
    "    pass\n",
    "mc = MyClass()\n",
    "print(type(mc))\n",
    "\n",
    "#类对象的类型是type\n",
    "print(type(MyClass))\n",
    "\n",
    "print(type('123'))\n",
    "print(type(str))\n",
    "\n",
    "#自定义函数的类型是function\n",
    "def do_sth():\n",
    "    pass\n",
    "print(type(do_sth))\n",
    "\n",
    "#内置函数的类型是builtin_function_or_method\n",
    "print(type(dir))\n",
    "\n",
    "print(type(dir()))\n",
    "\n",
    "#可以用==判断某个对象的类型是指定的类型（只适用于基本数据类型）\n",
    "print(type(123) == int)\n",
    "\n",
    "#非基本数据类型\n",
    "print(type(do_sth) == function)  #报错\n",
    "\n",
    "import types\n",
    "print(type(do_sth) == types.FunctionType)"
   ]
  },
  {
   "cell_type": "markdown",
   "metadata": {},
   "source": [
    "## 2. dir()\n",
    "类对象与实例对象的结果不同，类对象的结果中不包括实例属性"
   ]
  },
  {
   "cell_type": "code",
   "execution_count": 18,
   "metadata": {},
   "outputs": [
    {
     "name": "stdout",
     "output_type": "stream",
     "text": [
      "['__class__', '__delattr__', '__dict__', '__dir__', '__doc__', '__eq__', '__format__', '__ge__', '__getattribute__', '__gt__', '__hash__', '__init__', '__init_subclass__', '__le__', '__lt__', '__module__', '__ne__', '__new__', '__reduce__', '__reduce_ex__', '__repr__', '__setattr__', '__sizeof__', '__str__', '__subclasshook__', '__weakref__', 'ca', 'cm', 'im', 'sm']\n",
      "['__class__', '__delattr__', '__dict__', '__dir__', '__doc__', '__eq__', '__format__', '__ge__', '__getattribute__', '__gt__', '__hash__', '__init__', '__init_subclass__', '__le__', '__lt__', '__module__', '__ne__', '__new__', '__reduce__', '__reduce_ex__', '__repr__', '__setattr__', '__sizeof__', '__str__', '__subclasshook__', '__weakref__', 'ca', 'cm', 'ia', 'im', 'sm']\n"
     ]
    }
   ],
   "source": [
    "class MyClass(object):\n",
    "    ca = 'ca'\n",
    "    \n",
    "    def __init__(self):\n",
    "        self.ia = 'ia'\n",
    "        \n",
    "    def im(self):\n",
    "        pass\n",
    "    \n",
    "    @classmethod\n",
    "    def cm(cls):\n",
    "        pass\n",
    "    \n",
    "    @staticmethod\n",
    "    def sm():\n",
    "        pass\n",
    "\n",
    "#类对象的结果中不包括实例属性\n",
    "print(dir(MyClass))\n",
    "\n",
    "print(dir(MyClass()))"
   ]
  },
  {
   "cell_type": "markdown",
   "metadata": {},
   "source": [
    "# 16. 属性之增删改查\n",
    "attribute 属性\n",
    "\n",
    "## 1. hasattr(object,name)：\n",
    "用于判断指定的对象object是否有参数name指定的属性或方法\n",
    "\n",
    "## 2. getattr(object,name[, default] ) == object.name\n",
    "用于获取指定对象object中名为name的属性或方法\n",
    "注：\n",
    "- 如果不指定参数default，那么当object中不存在name的属性或方法时，抛出AttributeError\n",
    "- 如果指定了参数default，那么当object中不存在name的属性或方法时，返回default\n",
    "\n",
    "## 3. setattr(object,name，value) == object.name = value\n",
    "用于在指定对象object中添加或修改名为参数name的属性或方法，添加或修改后的值为value\n",
    "\n",
    "## 4. delattr(object,name) == del object.name\n",
    "用于删除指定对象object中名为name的属性或方法\n",
    "\n",
    "注：\n",
    "- 只有在不知道对象信息的这情况下，才回去获取对象的信息，如果可以尽量用object.name而不用gettattr()"
   ]
  },
  {
   "cell_type": "code",
   "execution_count": 15,
   "metadata": {
    "scrolled": true
   },
   "outputs": [
    {
     "name": "stdout",
     "output_type": "stream",
     "text": [
      "True\n",
      "False\n",
      "1\n",
      "查找的属性或方法不存在\n",
      "3\n",
      "False\n"
     ]
    }
   ],
   "source": [
    "class MyClass(object):\n",
    "    def __init__(self):\n",
    "        self.x = 1\n",
    "    def do_sth(self):\n",
    "        print(\"do_sth被调用\")\n",
    "mc = MyClass()\n",
    "\n",
    "print(hasattr(mc,'x'))\n",
    "print(hasattr(mc,'y'))\n",
    "\n",
    "print(getattr(mc,'x'))\n",
    "#print(getattr(mc,'y')) #报错\n",
    "print(getattr(mc,'y','查找的属性或方法不存在'))\n",
    "\n",
    "setattr(mc, 'z', 3)\n",
    "print(getattr(mc, 'z'))\n",
    "\n",
    "delattr(mc, 'z')\n",
    "print(hasattr(mc,'z'))"
   ]
  },
  {
   "cell_type": "markdown",
   "metadata": {},
   "source": [
    "# 17. 算术运算符重载\n",
    "标准算数运算符在默认情况下不能用于自定义类对象的实例对象\n",
    "定义了算数方法叫做算术运算符重载\n",
    "类中想要用算数 需有\n",
    "+ __add__()与__radd__() 在运算符的右边出现需要有__radd__\n",
    "- __sub__()与__rsub__()\n",
    "* __mul__()与__rmul__()\n",
    "/ __truediv__()与__truediv__()\n",
    "// __floordiv__()与__floordiv__()\n",
    "\n",
    "先看符号左边是否有__add__，如果有用__add__的方法，如果没有或返回NotImplemented 则看符号右边是否有__radd__，如果有用__radd__方法，如果没有就报错TypeError"
   ]
  },
  {
   "cell_type": "code",
   "execution_count": 28,
   "metadata": {},
   "outputs": [
    {
     "ename": "TypeError",
     "evalue": "unsupported operand type(s) for +: 'MyClass1' and 'MyClass2'",
     "output_type": "error",
     "traceback": [
      "\u001b[1;31m---------------------------------------------------------------------------\u001b[0m",
      "\u001b[1;31mTypeError\u001b[0m                                 Traceback (most recent call last)",
      "\u001b[1;32m<ipython-input-28-00f324e412dc>\u001b[0m in \u001b[0;36m<module>\u001b[1;34m()\u001b[0m\n\u001b[0;32m      6\u001b[0m \u001b[0mobj2\u001b[0m \u001b[1;33m=\u001b[0m \u001b[0mMyClass2\u001b[0m\u001b[1;33m(\u001b[0m\u001b[1;33m)\u001b[0m\u001b[1;33m\u001b[0m\u001b[0m\n\u001b[0;32m      7\u001b[0m \u001b[1;33m\u001b[0m\u001b[0m\n\u001b[1;32m----> 8\u001b[1;33m \u001b[0mprint\u001b[0m\u001b[1;33m(\u001b[0m\u001b[0mobj1\u001b[0m \u001b[1;33m+\u001b[0m \u001b[0mobj2\u001b[0m\u001b[1;33m)\u001b[0m\u001b[1;33m\u001b[0m\u001b[0m\n\u001b[0m",
      "\u001b[1;31mTypeError\u001b[0m: unsupported operand type(s) for +: 'MyClass1' and 'MyClass2'"
     ]
    }
   ],
   "source": [
    "class MyClass1(object):\n",
    "    pass\n",
    "class MyClass2(object):\n",
    "    pass\n",
    "obj1 = MyClass1()\n",
    "obj2 = MyClass2()\n",
    "\n",
    "print(obj1 + obj2)"
   ]
  },
  {
   "cell_type": "code",
   "execution_count": 30,
   "metadata": {},
   "outputs": [
    {
     "name": "stdout",
     "output_type": "stream",
     "text": [
      "这是__add__+的结果\n"
     ]
    }
   ],
   "source": [
    "class MyClass1(object):\n",
    "    def __add__(self, other):\n",
    "        return(\"这是__add__+的结果\")\n",
    "class MyClass2(object):\n",
    "    def __radd__(self, other):\n",
    "        return(\"这是__radd__+的结果\")\n",
    "obj1 = MyClass1()\n",
    "obj2 = MyClass2()\n",
    "\n",
    "print(obj1 + obj2)"
   ]
  },
  {
   "cell_type": "code",
   "execution_count": 1,
   "metadata": {},
   "outputs": [
    {
     "name": "stdout",
     "output_type": "stream",
     "text": [
      "这是__radd__+的结果\n"
     ]
    }
   ],
   "source": [
    "class MyClass1(object):\n",
    "    pass\n",
    "class MyClass2(object):\n",
    "    def __radd__(self, other):\n",
    "        return(\"这是__radd__+的结果\")\n",
    "obj1 = MyClass1()\n",
    "obj2 = MyClass2()\n",
    "\n",
    "print(obj1 + obj2)"
   ]
  },
  {
   "cell_type": "markdown",
   "metadata": {},
   "source": [
    "# 18. __str__()与__repr__()\n",
    "\n",
    "类对象的两个特殊方法用于自定义并返回实例对象的字符串表示形式\n",
    "\n",
    "1. 交互式命令行中直接打印一个实例对象时：\n",
    "   mc: 如果有repr方法调用repr，如果没有不调用\n",
    "   \n",
    "2. 用内置函数print打印实例对象\n",
    "   print(mc): repr > str\n",
    "   \n",
    "3. str\n",
    "    str > repr\n",
    "    \n",
    "4. repr\n",
    "    有只用repr，没有不用\n",
    "    \n",
    "    "
   ]
  },
  {
   "cell_type": "code",
   "execution_count": 6,
   "metadata": {},
   "outputs": [
    {
     "name": "stdout",
     "output_type": "stream",
     "text": [
      "<__main__.MyClass object at 0x0000000006D0C390>\n",
      "<__main__.MyClass object at 0x0000000006D0C390>\n",
      "<__main__.MyClass object at 0x0000000006D0C390>\n"
     ]
    }
   ],
   "source": [
    "class MyClass(object):\n",
    "    pass\n",
    "\n",
    "mc = MyClass()\n",
    "#返回类型的内存地址\n",
    "mc \n",
    "print(mc)\n",
    "print(str(mc))\n",
    "print(repr(mc))"
   ]
  },
  {
   "cell_type": "code",
   "execution_count": 7,
   "metadata": {},
   "outputs": [
    {
     "name": "stdout",
     "output_type": "stream",
     "text": [
      "__str__被调用\n",
      "__str__被调用\n",
      "<__main__.MyClass2 object at 0x0000000005AC06D8>\n"
     ]
    }
   ],
   "source": [
    "class MyClass2(object):\n",
    "    def __str__(self):\n",
    "        return \"__str__被调用\"\n",
    "\n",
    "mc = MyClass2()\n",
    "mc #返回类型的内存地址\n",
    "\n",
    "print(mc) #str被调用\n",
    "print(str(mc))   #'str被调用'\n",
    "print(repr(mc))  #返回类型的内存地址"
   ]
  },
  {
   "cell_type": "code",
   "execution_count": 8,
   "metadata": {},
   "outputs": [
    {
     "name": "stdout",
     "output_type": "stream",
     "text": [
      "__repr__被调用\n",
      "__repr__被调用\n",
      "__repr__被调用\n"
     ]
    }
   ],
   "source": [
    "class MyClass3(object):\n",
    "    def __repr__(self):\n",
    "        return \"__repr__被调用\"\n",
    "\n",
    "mc = MyClass3()\n",
    "mc #repr被调用\n",
    "\n",
    "print(mc) #repr被调用\n",
    "print(str(mc))   #'repr被调用'\n",
    "print(repr(mc))  #'repr被调用'"
   ]
  },
  {
   "cell_type": "code",
   "execution_count": 14,
   "metadata": {},
   "outputs": [
    {
     "name": "stdout",
     "output_type": "stream",
     "text": [
      "__str__被调用\n",
      "__str__被调用\n",
      "__repr__被调用\n"
     ]
    }
   ],
   "source": [
    "class MyClass4(object):\n",
    "    def __str__(self):\n",
    "        return \"__str__被调用\"\n",
    "    def __repr__(self):\n",
    "        return \"__repr__被调用\"\n",
    "mc = MyClass4()\n",
    "mc #repr被调用\n",
    "\n",
    "print(mc) #repr被调用\n",
    "print(str(mc))   #'str被调用'\n",
    "print(repr(mc))  #'repr被调用'"
   ]
  },
  {
   "cell_type": "markdown",
   "metadata": {},
   "source": [
    "通常情况下，类对象的特殊方法__str__()与__repr__()的实现代码是一样的，所以实现了其中一个后，可以把其方法名赋值给另一个方法名"
   ]
  },
  {
   "cell_type": "code",
   "execution_count": 18,
   "metadata": {
    "collapsed": true
   },
   "outputs": [],
   "source": [
    "class MyClass(object):\n",
    "    def __str__(self):\n",
    "        return\"实例对象的字符串表示形式\"\n",
    "    __repr__ = __str__"
   ]
  },
  {
   "cell_type": "markdown",
   "metadata": {},
   "source": [
    "内置函数str()与repr()的异同：\n",
    "str()和repr()都返回对象的字符串表示\n",
    "    str()的返回值是给用户看的\n",
    "    repr()的返回值是给程序开发者看的，是为调试服务的"
   ]
  },
  {
   "cell_type": "markdown",
   "metadata": {},
   "source": [
    "# 19. __new__\n",
    "当使用“类名”([实参])创建实例对象时，Python解释器的主要处理过程包括两大类：\n",
    "1. 调用特殊方法__new__()创建实例对象\n",
    "    首先会查找该类对象是否实现了此特殊方法，如果没有实现，则去其父类中以此查找。直到类对象object\n",
    "2. 调用特殊方法__init__()对创建的实例对象进行初始化\n",
    "    __new__()返回的实例对象会作为实参被自动传递给__init__()的第一个形参self\n",
    "    "
   ]
  },
  {
   "cell_type": "code",
   "execution_count": 8,
   "metadata": {},
   "outputs": [
    {
     "name": "stdout",
     "output_type": "stream",
     "text": [
      "父类的__new__被调用，其形参cls对应的id： 68411848\n",
      "创建的实例对象的id： 88965640\n",
      "子类的__init__()被调用，其形参self对应的id： 88965640\n"
     ]
    }
   ],
   "source": [
    "class Parent(object):\n",
    "    def __new__(cls, *arg, **kwargs):\n",
    "        pass\n",
    "class Child(Parent):\n",
    "    def __init__(self, name):\n",
    "        pass\n",
    "\n",
    "id(Parent)\n",
    "id(Child)\n",
    "\n",
    "class Parent(object):\n",
    "    def __new__(cls, *arg, **kwargs): #cls接受的是child的id\n",
    "        print(\"父类的__new__被调用，其形参cls对应的id：\",id(cls))\n",
    "        obj = super().__new__(cls)\n",
    "        print(\"创建的实例对象的id：\",id(obj))\n",
    "        return obj\n",
    "class Child(Parent):\n",
    "    def __init__(self, name):\n",
    "        print(\"子类的__init__()被调用，其形参self对应的id：\",id(self))\n",
    "        self.name = name\n",
    "child = Child(\"Mike\")"
   ]
  },
  {
   "cell_type": "markdown",
   "metadata": {},
   "source": [
    "# 20. __getitem__()、__setitem__()、__delitem__()\n",
    "如果想让自定义类对象的实例对象可以像列表和字典那样，使用中括号语法来操作数据，必须在自定义类对象中实现以下特殊方法：\n",
    "1. __getitem__(self,key)\n",
    "当执行操作obj[key]时，会自动调用该特殊方法\n",
    "2. __setitem__(self,key,value)\n",
    "当执行操作obj[key] = value时，会自动调用该特殊方法\n",
    "3. __delitem__(self,key)\n",
    "当执行操作del obj[key]时，会自动调用该特殊方法"
   ]
  },
  {
   "cell_type": "code",
   "execution_count": 36,
   "metadata": {},
   "outputs": [
    {
     "name": "stdout",
     "output_type": "stream",
     "text": [
      "{'one': 18, 'two': 32}\n",
      "{'one': 18}\n"
     ]
    },
    {
     "data": {
      "text/plain": [
       "18"
      ]
     },
     "execution_count": 36,
     "metadata": {},
     "output_type": "execute_result"
    }
   ],
   "source": [
    "class MyDict(object):\n",
    "    def __init__(self):\n",
    "        self.data = {}\n",
    "    def __getitem__(self, key):\n",
    "        return self.data[key]\n",
    "    def __setitem__(self, key, value):\n",
    "        self.data[key] = value\n",
    "    def __delitem__(self, key):\n",
    "        del self.data[key]        \n",
    "md = MyDict()\n",
    "\n",
    "md[\"one\"] = 18# 21. __call__ 与 callable\n",
    "如在类对象中实现了特殊方法__call__()，那么就可以像调用函数一样直接调用这个类对象的实例对象，从而会自动调用特殊方法__call__()\n",
    "内置函数callable用于判断指定对象是否是可调用的\n",
    "除了函数对象是可调用的之外，对于实现了特殊方法__call__()的类对象，其实例对象也是可调用的\n",
    "mc = MyClass 调用__init__\n",
    "mc()调用__call__\n",
    "md[\"two\"] = 32\n",
    "md[\"one\"]\n",
    "print(md.data)\n",
    "del md[\"two\"]\n",
    "print(md.data)\n",
    "md['one']"
   ]
  },
  {
   "cell_type": "markdown",
   "metadata": {},
   "source": [
    "# 21. __call__ 与 callable\n",
    "如在类对象中实现了特殊方法__call__()，那么就可以像调用函数一样直接调用这个类对象的实例对象，从而会自动调用特殊方法__call__()\n",
    "内置函数callable用于判断指定对象是否是可调用的\n",
    "除了函数对象是可调用的之外，对于实现了特殊方法__call__()的类对象，其实例对象也是可调用的\n",
    "mc = MyClass 调用__init__\n",
    "mc()调用__call__"
   ]
  },
  {
   "cell_type": "code",
   "execution_count": 23,
   "metadata": {},
   "outputs": [
    {
     "name": "stdout",
     "output_type": "stream",
     "text": [
      "() {}\n",
      "(1, 2) {'x': 3, 'y': 4}\n"
     ]
    }
   ],
   "source": [
    "class MyClass(object):\n",
    "    def __call__(self, *args, **kwargs):\n",
    "        print(args, kwargs)\n",
    "mc = MyClass()\n",
    "mc()\n",
    "mc(1,2,x = 3, y = 4)"
   ]
  },
  {
   "cell_type": "code",
   "execution_count": 20,
   "metadata": {},
   "outputs": [
    {
     "name": "stdout",
     "output_type": "stream",
     "text": [
      "(2, 6, 8) {'name': 'Tom', 'hobby': 'music'}\n",
      "10\n",
      "True\n",
      "True\n"
     ]
    }
   ],
   "source": [
    "class MyClass(object):\n",
    "    def __call__(self, age, *args, **kwargs):\n",
    "        print(args, kwargs)\n",
    "        print(age) # age被占10据了，*arg中可以有多个参数\n",
    "mc = MyClass()\n",
    "\n",
    "mc(10, 2, 6, 8, name = 'Tom', hobby = 'music')\n",
    "\n",
    "print(callable(mc))\n",
    "print(callable(MyClass()))"
   ]
  },
  {
   "cell_type": "code",
   "execution_count": 13,
   "metadata": {},
   "outputs": [
    {
     "data": {
      "text/plain": [
       "True"
      ]
     },
     "execution_count": 13,
     "metadata": {},
     "output_type": "execute_result"
    }
   ],
   "source": [
    "callable(print)"
   ]
  },
  {
   "cell_type": "code",
   "execution_count": 14,
   "metadata": {},
   "outputs": [
    {
     "data": {
      "text/plain": [
       "True"
      ]
     },
     "execution_count": 14,
     "metadata": {},
     "output_type": "execute_result"
    }
   ],
   "source": [
    "def fun():\n",
    "    pass\n",
    "callable(fun)"
   ]
  },
  {
   "cell_type": "code",
   "execution_count": 16,
   "metadata": {},
   "outputs": [
    {
     "ename": "NameError",
     "evalue": "name 'MyClass' is not defined",
     "output_type": "error",
     "traceback": [
      "\u001b[1;31m---------------------------------------------------------------------------\u001b[0m",
      "\u001b[1;31mNameError\u001b[0m                                 Traceback (most recent call last)",
      "\u001b[1;32m<ipython-input-16-91bdba0bb264>\u001b[0m in \u001b[0;36m<module>\u001b[1;34m()\u001b[0m\n\u001b[1;32m----> 1\u001b[1;33m \u001b[0mcallable\u001b[0m\u001b[1;33m(\u001b[0m\u001b[0mMyClass\u001b[0m\u001b[1;33m(\u001b[0m\u001b[1;33m)\u001b[0m\u001b[1;33m)\u001b[0m\u001b[1;33m\u001b[0m\u001b[0m\n\u001b[0m",
      "\u001b[1;31mNameError\u001b[0m: name 'MyClass' is not defined"
     ]
    }
   ],
   "source": [
    "callable(MyClass())"
   ]
  },
  {
   "cell_type": "markdown",
   "metadata": {},
   "source": [
    "# 22. __doc__ 与__dict__\n",
    "__doc__用于表示类对象的文档字符串\n",
    "1. 类对象的文档字符串\n",
    "与函数的文档字符串类似，位于类对象的第一行的字符串被称为类对象的文档字符串，通常用三个引号表示，类对象的文档字符串是对类对象的功能的简要描述\n",
    "2. 访问类对象的文档字符串\n",
    "通过类对象的特殊属性__doc__可以访问了类对象文档字符串\n",
    "调用内置函数help()得到帮助类函数的文档字符串\n",
    "\n",
    "__dict__获得该类对象或实例对象绑定的所有方法和属性的字典。其中字典的键为方法名或属性名"
   ]
  },
  {
   "cell_type": "code",
   "execution_count": 24,
   "metadata": {
    "scrolled": true
   },
   "outputs": [
    {
     "name": "stdout",
     "output_type": "stream",
     "text": [
      "\n",
      "    这是类对象的文档字符串\n",
      "    aa bb cc\n",
      "    \n",
      "Help on MyClass in module __main__ object:\n",
      "\n",
      "class MyClass(builtins.object)\n",
      " |  这是类对象的文档字符串\n",
      " |  aa bb cc\n",
      " |  \n",
      " |  Data descriptors defined here:\n",
      " |  \n",
      " |  __dict__\n",
      " |      dictionary for instance variables (if defined)\n",
      " |  \n",
      " |  __weakref__\n",
      " |      list of weak references to the object (if defined)\n",
      "\n"
     ]
    }
   ],
   "source": [
    "class MyClass(object):\n",
    "    \"\"\"\n",
    "    这是类对象的文档字符串\n",
    "    aa bb cc\n",
    "    \"\"\"\n",
    "    pass\n",
    "print(MyClass.__doc__)\n",
    "help(MyClass)"
   ]
  },
  {
   "cell_type": "code",
   "execution_count": 33,
   "metadata": {},
   "outputs": [
    {
     "name": "stdout",
     "output_type": "stream",
     "text": [
      "{'ia': 'ia', 'ia2': 'ia2'}\n"
     ]
    }
   ],
   "source": [
    "class MyClass(object):\n",
    "    ca = 'ca'\n",
    "    def __init__(self):\n",
    "        self.ia = 'ia'\n",
    "    def im(self):\n",
    "        pass\n",
    "    @classmethod\n",
    "    def cm(cls):\n",
    "        pass\n",
    "    @staticmethod\n",
    "    def sm():\n",
    "        pass\n",
    "#访问类对象所绑定的所有属性和方法\n",
    "MyClass()\n",
    "MyClass.ca2 = 'ca2'\n",
    "MyClass.__dict__\n",
    "\n",
    "#访问实例对象所绑定的所有属性和方法\n",
    "mc = MyClass()\n",
    "mc.ia2 = 'ia2'\n",
    "print(mc.__dict__)"
   ]
  },
  {
   "cell_type": "markdown",
   "metadata": {},
   "source": [
    "# 23. 特殊属性之__slots__\n",
    "如果想要对实例对象动态绑定的属性和方法的名称进行限制，可以在其类对象中定义__slots__，并给__slots__赋值给一个所有元素都为字符串的列表或元组，这样对实例对象动态绑定的属性和方法的名称就只能来自于__slots__中的元素\n",
    "\n",
    "特殊属性__slots__对其所在类对象的实例对象起作用，对其所在类对象的子类的实例对象是不起作用的\n",
    "如果子类也定义的特殊属性__slots__，那么子类的实例对象可以动态绑定的属性和方法名称为子类的__slots__和父类的__slots__"
   ]
  },
  {
   "cell_type": "code",
   "execution_count": 39,
   "metadata": {
    "scrolled": true
   },
   "outputs": [
    {
     "name": "stdout",
     "output_type": "stream",
     "text": [
      "15\n"
     ]
    },
    {
     "ename": "AttributeError",
     "evalue": "'MyClass' object has no attribute 'attr2'",
     "output_type": "error",
     "traceback": [
      "\u001b[1;31m---------------------------------------------------------------------------\u001b[0m",
      "\u001b[1;31mAttributeError\u001b[0m                            Traceback (most recent call last)",
      "\u001b[1;32m<ipython-input-39-d66094fe3faa>\u001b[0m in \u001b[0;36m<module>\u001b[1;34m()\u001b[0m\n\u001b[0;32m      4\u001b[0m \u001b[0mmc\u001b[0m\u001b[1;33m.\u001b[0m\u001b[0mattr1\u001b[0m \u001b[1;33m=\u001b[0m \u001b[1;36m15\u001b[0m\u001b[1;33m\u001b[0m\u001b[0m\n\u001b[0;32m      5\u001b[0m \u001b[0mprint\u001b[0m\u001b[1;33m(\u001b[0m\u001b[0mmc\u001b[0m\u001b[1;33m.\u001b[0m\u001b[0mattr1\u001b[0m\u001b[1;33m)\u001b[0m\u001b[1;33m\u001b[0m\u001b[0m\n\u001b[1;32m----> 6\u001b[1;33m \u001b[0mmc\u001b[0m\u001b[1;33m.\u001b[0m\u001b[0mattr2\u001b[0m \u001b[1;33m=\u001b[0m \u001b[1;36m18\u001b[0m\u001b[1;33m\u001b[0m\u001b[0m\n\u001b[0m\u001b[0;32m      7\u001b[0m \u001b[0mprint\u001b[0m\u001b[1;33m(\u001b[0m\u001b[0mmc\u001b[0m\u001b[1;33m.\u001b[0m\u001b[0mattr2\u001b[0m\u001b[1;33m)\u001b[0m\u001b[1;33m\u001b[0m\u001b[0m\n",
      "\u001b[1;31mAttributeError\u001b[0m: 'MyClass' object has no attribute 'attr2'"
     ]
    }
   ],
   "source": [
    "class MyClass(object):\n",
    "    __slots__ = (\"attr1\",\"do_sth1\")\n",
    "mc = MyClass()\n",
    "mc.attr1 = 15\n",
    "print(mc.attr1)\n",
    "mc.attr2 = 18\n",
    "print(mc.attr2)"
   ]
  },
  {
   "cell_type": "code",
   "execution_count": 48,
   "metadata": {},
   "outputs": [
    {
     "name": "stdout",
     "output_type": "stream",
     "text": [
      "do_sth1被调用了\n"
     ]
    },
    {
     "ename": "AttributeError",
     "evalue": "'MyClass' object has no attribute 'do_sth2'",
     "output_type": "error",
     "traceback": [
      "\u001b[1;31m---------------------------------------------------------------------------\u001b[0m",
      "\u001b[1;31mAttributeError\u001b[0m                            Traceback (most recent call last)",
      "\u001b[1;32m<ipython-input-48-39e961c03cb5>\u001b[0m in \u001b[0;36m<module>\u001b[1;34m()\u001b[0m\n\u001b[1;32m----> 1\u001b[1;33m \u001b[1;32mclass\u001b[0m \u001b[0mMyClass\u001b[0m\u001b[1;33m(\u001b[0m\u001b[0mobject\u001b[0m\u001b[1;33m)\u001b[0m\u001b[1;33m:\u001b[0m\u001b[1;33m\u001b[0m\u001b[0m\n\u001b[0m\u001b[0;32m      2\u001b[0m     \u001b[0m__slots__\u001b[0m \u001b[1;33m=\u001b[0m \u001b[1;33m(\u001b[0m\u001b[1;34m'attr1'\u001b[0m\u001b[1;33m,\u001b[0m\u001b[1;34m'do_sth1'\u001b[0m\u001b[1;33m)\u001b[0m\u001b[1;33m\u001b[0m\u001b[0m\n\u001b[0;32m      3\u001b[0m \u001b[1;33m\u001b[0m\u001b[0m\n\u001b[0;32m      4\u001b[0m     \u001b[1;32mdef\u001b[0m \u001b[0mdo_sth1\u001b[0m\u001b[1;33m(\u001b[0m\u001b[0mself\u001b[0m\u001b[1;33m)\u001b[0m\u001b[1;33m:\u001b[0m\u001b[1;33m\u001b[0m\u001b[0m\n\u001b[0;32m      5\u001b[0m         \u001b[0mprint\u001b[0m\u001b[1;33m(\u001b[0m\u001b[1;34m'do_sth1被调用了'\u001b[0m\u001b[1;33m)\u001b[0m\u001b[1;33m\u001b[0m\u001b[0m\n",
      "\u001b[1;32m<ipython-input-48-39e961c03cb5>\u001b[0m in \u001b[0;36mMyClass\u001b[1;34m()\u001b[0m\n\u001b[0;32m     10\u001b[0m     \u001b[1;32mdef\u001b[0m \u001b[0mdo_sth2\u001b[0m\u001b[1;33m(\u001b[0m\u001b[0mself\u001b[0m\u001b[1;33m)\u001b[0m\u001b[1;33m:\u001b[0m\u001b[1;33m\u001b[0m\u001b[0m\n\u001b[0;32m     11\u001b[0m         \u001b[0mprint\u001b[0m\u001b[1;33m(\u001b[0m\u001b[1;34m'do_sth2被调用了'\u001b[0m\u001b[1;33m)\u001b[0m\u001b[1;33m\u001b[0m\u001b[0m\n\u001b[1;32m---> 12\u001b[1;33m     \u001b[0mmc\u001b[0m\u001b[1;33m.\u001b[0m\u001b[0mdo_sth2\u001b[0m \u001b[1;33m=\u001b[0m \u001b[0mMethodType\u001b[0m\u001b[1;33m(\u001b[0m\u001b[0mdo_sth2\u001b[0m\u001b[1;33m,\u001b[0m\u001b[0mmc\u001b[0m\u001b[1;33m)\u001b[0m\u001b[1;33m\u001b[0m\u001b[0m\n\u001b[0m\u001b[0;32m     13\u001b[0m \u001b[1;33m\u001b[0m\u001b[0m\n",
      "\u001b[1;31mAttributeError\u001b[0m: 'MyClass' object has no attribute 'do_sth2'"
     ]
    }
   ],
   "source": [
    "class MyClass(object):\n",
    "    __slots__ = ('attr1','do_sth1')\n",
    "    \n",
    "    def do_sth1(self):\n",
    "        print('do_sth1被调用了')\n",
    "    from types import MethodType\n",
    "    mc.do_sth1 = MethodType(do_sth1,mc)\n",
    "    mc.do_sth1()\n",
    "\n",
    "    def do_sth2(self):\n",
    "        print('do_sth2被调用了')\n",
    "    mc.do_sth2 = MethodType(do_sth2,mc)\n",
    "   "
   ]
  },
  {
   "cell_type": "markdown",
   "metadata": {},
   "source": [
    "# 24. 特殊方法之__len__()\n",
    "内置函数len()用于返回对象的长度\n",
    "内置函数len()的实参在默认情况下不能是自定义类对象的实例对象\n",
    "\n",
    "注：如果想要len()的实参可以是自定义类对象的实例对象，必须在自定义类对象中实现__len__()"
   ]
  },
  {
   "cell_type": "code",
   "execution_count": 5,
   "metadata": {},
   "outputs": [
    {
     "name": "stdout",
     "output_type": "stream",
     "text": [
      "13\n"
     ]
    }
   ],
   "source": [
    "class MyClass(object):\n",
    "    def __len__(self):\n",
    "        return 13\n",
    "print(len(MyClass()))\n"
   ]
  },
  {
   "cell_type": "markdown",
   "metadata": {},
   "source": [
    "# 25. 生成器与迭代器\n",
    "生成器(generator)：一次性的，用完就就没了\n",
    "查看生成器对应的所有元素，有两种方式：\n",
    "1. 多次调用内置函数next()，每次调用都返回生成器的下一个元素，直到抛出异常StopIteration时表示没有更多元素了\n",
    "2. 使用for-in语句对生成器进行迭代，这样就不需要关心异常StopIteration了\n",
    "\n",
    "如果需要创建一个元素个数较大的容器，就可以考虑使用生成器，从而节省大量的存储空间\n",
    "\n",
    "生成器函数：yield （只要有yield就是生成器） \n",
    "生成器函数中通过关键字yield返回推算出的元素\n",
    "生成器函数与普通函数的区别：\n",
    "    当调用内置函数next()或使用for-in语句进行迭代时，执行完yield语句就会将生成器函数挂起，下次会从挂起的地方继续执行\n",
    "    \n",
    "yield与return\n",
    "return后直接结束，只返回一次"
   ]
  },
  {
   "cell_type": "code",
   "execution_count": 6,
   "metadata": {
    "scrolled": true
   },
   "outputs": [
    {
     "ename": "SyntaxError",
     "evalue": "unexpected EOF while parsing (<ipython-input-6-87db2d2904f3>, line 6)",
     "output_type": "error",
     "traceback": [
      "\u001b[1;36m  File \u001b[1;32m\"<ipython-input-6-87db2d2904f3>\"\u001b[1;36m, line \u001b[1;32m6\u001b[0m\n\u001b[1;33m    (i*i for i in range(8)\u001b[0m\n\u001b[1;37m                            ^\u001b[0m\n\u001b[1;31mSyntaxError\u001b[0m\u001b[1;31m:\u001b[0m unexpected EOF while parsing\n"
     ]
    }
   ],
   "source": [
    "# 列表推导式\n",
    "[i*i for i in range(8)] \n",
    "\n",
    " "
   ]
  },
  {
   "cell_type": "code",
   "execution_count": 8,
   "metadata": {},
   "outputs": [
    {
     "data": {
      "text/plain": [
       "<generator object <genexpr> at 0x0000000005927DB0>"
      ]
     },
     "execution_count": 8,
     "metadata": {},
     "output_type": "execute_result"
    }
   ],
   "source": [
    "# 生成器表达式\n",
    "(i*i for i in range(8))"
   ]
  },
  {
   "cell_type": "code",
   "execution_count": 24,
   "metadata": {},
   "outputs": [
    {
     "name": "stdout",
     "output_type": "stream",
     "text": [
      "0\n",
      "1\n",
      "4\n",
      "9\n",
      "16\n",
      "25\n",
      "36\n",
      "49\n"
     ]
    },
    {
     "ename": "StopIteration",
     "evalue": "",
     "output_type": "error",
     "traceback": [
      "\u001b[1;31m---------------------------------------------------------------------------\u001b[0m",
      "\u001b[1;31mStopIteration\u001b[0m                             Traceback (most recent call last)",
      "\u001b[1;32m<ipython-input-24-ab9aee1a28fa>\u001b[0m in \u001b[0;36m<module>\u001b[1;34m()\u001b[0m\n\u001b[0;32m      8\u001b[0m \u001b[0mprint\u001b[0m\u001b[1;33m(\u001b[0m\u001b[0mnext\u001b[0m\u001b[1;33m(\u001b[0m\u001b[0ma\u001b[0m\u001b[1;33m)\u001b[0m\u001b[1;33m)\u001b[0m\u001b[1;33m\u001b[0m\u001b[0m\n\u001b[0;32m      9\u001b[0m \u001b[0mprint\u001b[0m\u001b[1;33m(\u001b[0m\u001b[0mnext\u001b[0m\u001b[1;33m(\u001b[0m\u001b[0ma\u001b[0m\u001b[1;33m)\u001b[0m\u001b[1;33m)\u001b[0m\u001b[1;33m\u001b[0m\u001b[0m\n\u001b[1;32m---> 10\u001b[1;33m \u001b[0mprint\u001b[0m\u001b[1;33m(\u001b[0m\u001b[0mnext\u001b[0m\u001b[1;33m(\u001b[0m\u001b[0ma\u001b[0m\u001b[1;33m)\u001b[0m\u001b[1;33m)\u001b[0m\u001b[1;33m\u001b[0m\u001b[0m\n\u001b[0m",
      "\u001b[1;31mStopIteration\u001b[0m: "
     ]
    }
   ],
   "source": [
    "a = (i*i for i in range(8))\n",
    "print(next(a))\n",
    "print(next(a))\n",
    "print(next(a))\n",
    "print(next(a))\n",
    "print(next(a))\n",
    "print(next(a))\n",
    "print(next(a))\n",
    "print(next(a))\n",
    "print(next(a))"
   ]
  },
  {
   "cell_type": "code",
   "execution_count": 15,
   "metadata": {},
   "outputs": [
    {
     "name": "stdout",
     "output_type": "stream",
     "text": [
      "0\n",
      "1\n",
      "4\n",
      "9\n",
      "16\n",
      "25\n",
      "36\n",
      "49\n"
     ]
    }
   ],
   "source": [
    "a = (i*i for i in range(8))\n",
    "\n",
    "for j in a:\n",
    "     print(j)"
   ]
  },
  {
   "cell_type": "code",
   "execution_count": 18,
   "metadata": {},
   "outputs": [
    {
     "name": "stdout",
     "output_type": "stream",
     "text": [
      "1,1,2,3,5,8,"
     ]
    }
   ],
   "source": [
    "def fib(n):\n",
    "    i = 0\n",
    "    a, b = 1, 1\n",
    "    while i < n:\n",
    "        print(a, end = ',')\n",
    "        a, b = b, a + b\n",
    "        i += 1\n",
    "fib(6)"
   ]
  },
  {
   "cell_type": "code",
   "execution_count": null,
   "metadata": {
    "collapsed": true
   },
   "outputs": [],
   "source": [
    "def fib(n):\n",
    "    i = 0\n",
    "    a, b = 1, 1\n",
    "    while i < n:\n",
    "        yield A\n",
    "        a, b = b, a + b\n",
    "        i += 1\n",
    "        # return 后就直接结束\n",
    "        \n",
    "fib(6)"
   ]
  },
  {
   "cell_type": "code",
   "execution_count": 31,
   "metadata": {},
   "outputs": [
    {
     "name": "stdout",
     "output_type": "stream",
     "text": [
      "<generator object test at 0x0000000006D46308>\n"
     ]
    },
    {
     "ename": "StopIteration",
     "evalue": "提前结束",
     "output_type": "error",
     "traceback": [
      "\u001b[1;31m---------------------------------------------------------------------------\u001b[0m",
      "\u001b[1;31mStopIteration\u001b[0m                             Traceback (most recent call last)",
      "\u001b[1;32m<ipython-input-31-d95079df0d63>\u001b[0m in \u001b[0;36m<module>\u001b[1;34m()\u001b[0m\n\u001b[0;32m      8\u001b[0m \u001b[0mprint\u001b[0m\u001b[1;33m(\u001b[0m\u001b[0ma\u001b[0m\u001b[1;33m)\u001b[0m \u001b[1;31m# 输出迭代器\u001b[0m\u001b[1;33m\u001b[0m\u001b[0m\n\u001b[0;32m      9\u001b[0m \u001b[0mnext\u001b[0m\u001b[1;33m(\u001b[0m\u001b[0ma\u001b[0m\u001b[1;33m)\u001b[0m  \u001b[1;31m# 输出0\u001b[0m\u001b[1;33m\u001b[0m\u001b[0m\n\u001b[1;32m---> 10\u001b[1;33m \u001b[0mnext\u001b[0m\u001b[1;33m(\u001b[0m\u001b[0ma\u001b[0m\u001b[1;33m)\u001b[0m  \u001b[1;31m# 报错 会返回return 的值\u001b[0m\u001b[1;33m\u001b[0m\u001b[0m\n\u001b[0m",
      "\u001b[1;31mStopIteration\u001b[0m: 提前结束"
     ]
    }
   ],
   "source": [
    "def test():\n",
    "    n = 0\n",
    "    while n < 10:\n",
    "        yield n\n",
    "        n +=2\n",
    "        return \"提前结束\"\n",
    "a = test()\n",
    "print(a) # 输出迭代器\n",
    "next(a)  # 输出0\n",
    "next(a)  # 报错 会返回return 的值"
   ]
  },
  {
   "cell_type": "markdown",
   "metadata": {},
   "source": [
    "##  迭代器\n",
    "\n",
    "可以用于for-in语句的对象被称为可迭代对象（Iterable）对象\n",
    "例：range，元组，字符串，列表，字典，集合，生成器都是可迭代对象\n",
    "\n",
    "可以调用内置函数isinstance()判断一个对象是否是可迭代对象，标准库模块collections中的类Iterable用于表达可迭代对象\n",
    "\n",
    "可以被next调用的才叫iterator\n",
    "\n",
    "可以调用内置函数iter()把不支持惰性推算的可迭代对象转换为迭代器对象\n",
    "如果一个对象同时实现了特殊方法__iter__()和__next__(),那么该对象也被称为可迭代对象，如果该对象用于for-in语句，首先会调用__iter__()返回一个可迭代对象，然后不断调用__next__()返回下一次迭代的值，直到遇到StopInteration"
   ]
  },
  {
   "cell_type": "code",
   "execution_count": 34,
   "metadata": {},
   "outputs": [
    {
     "name": "stdout",
     "output_type": "stream",
     "text": [
      "True\n"
     ]
    }
   ],
   "source": [
    "from collections import Iterable\n",
    "print(isinstance([1,2,3],Iterable))"
   ]
  },
  {
   "cell_type": "code",
   "execution_count": 32,
   "metadata": {
    "scrolled": false
   },
   "outputs": [
    {
     "ename": "TypeError",
     "evalue": "'list' object is not an iterator",
     "output_type": "error",
     "traceback": [
      "\u001b[1;31m---------------------------------------------------------------------------\u001b[0m",
      "\u001b[1;31mTypeError\u001b[0m                                 Traceback (most recent call last)",
      "\u001b[1;32m<ipython-input-32-613237b05554>\u001b[0m in \u001b[0;36m<module>\u001b[1;34m()\u001b[0m\n\u001b[0;32m      1\u001b[0m \u001b[0mL\u001b[0m \u001b[1;33m=\u001b[0m \u001b[1;33m[\u001b[0m\u001b[1;36m1\u001b[0m\u001b[1;33m,\u001b[0m\u001b[1;36m2\u001b[0m\u001b[1;33m,\u001b[0m\u001b[1;36m3\u001b[0m\u001b[1;33m]\u001b[0m\u001b[1;33m\u001b[0m\u001b[0m\n\u001b[1;32m----> 2\u001b[1;33m \u001b[0mnext\u001b[0m\u001b[1;33m(\u001b[0m\u001b[0mL\u001b[0m\u001b[1;33m)\u001b[0m\u001b[1;33m\u001b[0m\u001b[0m\n\u001b[0m",
      "\u001b[1;31mTypeError\u001b[0m: 'list' object is not an iterator"
     ]
    }
   ],
   "source": [
    "#可以被next调用的才叫Iterator\n",
    "L = [1,2,3]\n",
    "next(L)\n"
   ]
  },
  {
   "cell_type": "code",
   "execution_count": 29,
   "metadata": {},
   "outputs": [
    {
     "name": "stdout",
     "output_type": "stream",
     "text": [
      "True\n"
     ]
    }
   ],
   "source": [
    "L = [1,2,3]\n",
    "L1 = iter(L)\n",
    "from collections import Iterator\n",
    "print(isinstance(L1, Iterator))"
   ]
  },
  {
   "cell_type": "markdown",
   "metadata": {},
   "source": [
    "# 上下文管理器与with语句\n",
    "with 上下文表达式 \n",
    "\n",
    "先调用enter \n",
    "最后调用exit"
   ]
  },
  {
   "cell_type": "code",
   "execution_count": 3,
   "metadata": {},
   "outputs": [
    {
     "name": "stdout",
     "output_type": "stream",
     "text": [
      "enter\n",
      "do_sth\n"
     ]
    },
    {
     "ename": "TypeError",
     "evalue": "__exit__() takes 1 positional argument but 4 were given",
     "output_type": "error",
     "traceback": [
      "\u001b[1;31m---------------------------------------------------------------------------\u001b[0m",
      "\u001b[1;31mZeroDivisionError\u001b[0m                         Traceback (most recent call last)",
      "\u001b[1;32m<ipython-input-3-33d4b5053f5b>\u001b[0m in \u001b[0;36m<module>\u001b[1;34m()\u001b[0m\n\u001b[0;32m     11\u001b[0m \u001b[1;32mwith\u001b[0m \u001b[0mMyContext\u001b[0m\u001b[1;33m(\u001b[0m\u001b[1;33m)\u001b[0m \u001b[1;32mas\u001b[0m \u001b[0mmy\u001b[0m\u001b[1;33m:\u001b[0m\u001b[1;33m\u001b[0m\u001b[0m\n\u001b[1;32m---> 12\u001b[1;33m     \u001b[0mmy\u001b[0m\u001b[1;33m.\u001b[0m\u001b[0mdo_sth\u001b[0m\u001b[1;33m(\u001b[0m\u001b[1;33m)\u001b[0m\u001b[1;33m\u001b[0m\u001b[0m\n\u001b[0m",
      "\u001b[1;32m<ipython-input-3-33d4b5053f5b>\u001b[0m in \u001b[0;36mdo_sth\u001b[1;34m(self)\u001b[0m\n\u001b[0;32m      8\u001b[0m         \u001b[0mprint\u001b[0m\u001b[1;33m(\u001b[0m\u001b[1;34m'do_sth'\u001b[0m\u001b[1;33m)\u001b[0m\u001b[1;33m\u001b[0m\u001b[0m\n\u001b[1;32m----> 9\u001b[1;33m         \u001b[0mprint\u001b[0m\u001b[1;33m(\u001b[0m\u001b[1;36m1\u001b[0m\u001b[1;33m/\u001b[0m\u001b[1;36m0\u001b[0m\u001b[1;33m)\u001b[0m\u001b[1;33m\u001b[0m\u001b[0m\n\u001b[0m\u001b[0;32m     10\u001b[0m \u001b[1;33m\u001b[0m\u001b[0m\n",
      "\u001b[1;31mZeroDivisionError\u001b[0m: division by zero",
      "\nDuring handling of the above exception, another exception occurred:\n",
      "\u001b[1;31mTypeError\u001b[0m                                 Traceback (most recent call last)",
      "\u001b[1;32m<ipython-input-3-33d4b5053f5b>\u001b[0m in \u001b[0;36m<module>\u001b[1;34m()\u001b[0m\n\u001b[0;32m     10\u001b[0m \u001b[1;33m\u001b[0m\u001b[0m\n\u001b[0;32m     11\u001b[0m \u001b[1;32mwith\u001b[0m \u001b[0mMyContext\u001b[0m\u001b[1;33m(\u001b[0m\u001b[1;33m)\u001b[0m \u001b[1;32mas\u001b[0m \u001b[0mmy\u001b[0m\u001b[1;33m:\u001b[0m\u001b[1;33m\u001b[0m\u001b[0m\n\u001b[1;32m---> 12\u001b[1;33m     \u001b[0mmy\u001b[0m\u001b[1;33m.\u001b[0m\u001b[0mdo_sth\u001b[0m\u001b[1;33m(\u001b[0m\u001b[1;33m)\u001b[0m\u001b[1;33m\u001b[0m\u001b[0m\n\u001b[0m",
      "\u001b[1;31mTypeError\u001b[0m: __exit__() takes 1 positional argument but 4 were given"
     ]
    }
   ],
   "source": [
    "class MyContext(object):\n",
    "    def __enter__(self):\n",
    "        print('enter')\n",
    "        return self\n",
    "    def __exit__(self):\n",
    "        print('exit')\n",
    "        \n",
    "    def do_sth(self):\n",
    "        print('do_sth')\n",
    "        print(1/0)\n",
    "\n",
    "with MyContext() as my:\n",
    "    my.do_sth()"
   ]
  },
  {
   "cell_type": "code",
   "execution_count": null,
   "metadata": {
    "collapsed": true
   },
   "outputs": [],
   "source": []
  },
  {
   "cell_type": "code",
   "execution_count": null,
   "metadata": {
    "collapsed": true
   },
   "outputs": [],
   "source": []
  },
  {
   "cell_type": "code",
   "execution_count": null,
   "metadata": {
    "collapsed": true
   },
   "outputs": [],
   "source": []
  },
  {
   "cell_type": "markdown",
   "metadata": {},
   "source": [
    "# 错误与异常\n",
    "\n",
    "程序的错误：\n",
    "    1. 语法错误、逻辑错误和运行时错误\n",
    "        语法错误：指代码中的编写错误，这些错误导致python编译器无法把python源代码转换为字节码，故也称之为编译错误\n",
    "        逻辑错误：指程序可以执行（程序运行本身不报错）但执行结果\n",
    "        运行错误：异常\n",
    "什么是异常\n",
    "    异常是指没有语法错误的前提下，在运行期间产生的特定错误\n",
    "    每个特定错误都对应一个异常类对象，当产生某个特定错误时，其对应的异常类对象的实例对象就会被抛出\n",
    "    如果在程序中对抛出的异常实例对象不进行捕获和处理，程序就会停止运行，兵且打印错误的详细信息，包括：\n",
    "        1. Traceback，它指的是异常调用堆栈的跟踪信息，其中列出了程序中的相关行数\n",
    "        2. 对应的异常类对象的名称，以及异常的错误信息\n",
    "        \n",
    "        如果在程序中\n",
    "        \n",
    "异常处理：\n",
    "try-except语句语法：\n",
    "    try: \n",
    "        可能会出现的异常的代码\n",
    "    except: 异常类对象1\n",
    "        当前except子句处理异常的代码\n",
    "    except: 异常类对象2\n",
    "        当前except子句处理异常的代码\n",
    "    else:\n",
    "    finally:\n",
    "        \n",
    "异常类对象所表示的特定错误的官方文档：https://docs.python.org/3/library/excepyions.html"
   ]
  },
  {
   "cell_type": "code",
   "execution_count": 2,
   "metadata": {
    "scrolled": true
   },
   "outputs": [
    {
     "ename": "ZeroDivisionError",
     "evalue": "division by zero",
     "output_type": "error",
     "traceback": [
      "\u001b[1;31m---------------------------------------------------------------------------\u001b[0m",
      "\u001b[1;31mZeroDivisionError\u001b[0m                         Traceback (most recent call last)",
      "\u001b[1;32m<ipython-input-2-e6acf516a928>\u001b[0m in \u001b[0;36m<module>\u001b[1;34m()\u001b[0m\n\u001b[1;32m----> 1\u001b[1;33m \u001b[0mresult\u001b[0m \u001b[1;33m=\u001b[0m \u001b[1;36m1\u001b[0m\u001b[1;33m/\u001b[0m\u001b[1;36m0\u001b[0m\u001b[1;33m\u001b[0m\u001b[0m\n\u001b[0m\u001b[0;32m      2\u001b[0m \u001b[0mprint\u001b[0m\u001b[1;33m(\u001b[0m\u001b[0mresult\u001b[0m\u001b[1;33m)\u001b[0m\u001b[1;33m\u001b[0m\u001b[0m\n",
      "\u001b[1;31mZeroDivisionError\u001b[0m: division by zero"
     ]
    }
   ],
   "source": [
    "result = 1/0\n",
    "print(result)"
   ]
  },
  {
   "cell_type": "code",
   "execution_count": 12,
   "metadata": {
    "scrolled": true
   },
   "outputs": [
    {
     "ename": "ValueError",
     "evalue": "invalid literal for int() with base 10: 'abc'",
     "output_type": "error",
     "traceback": [
      "\u001b[1;31m---------------------------------------------------------------------------\u001b[0m",
      "\u001b[1;31mValueError\u001b[0m                                Traceback (most recent call last)",
      "\u001b[1;32m<ipython-input-12-960d03050136>\u001b[0m in \u001b[0;36m<module>\u001b[1;34m()\u001b[0m\n\u001b[1;32m----> 1\u001b[1;33m \u001b[0mresult\u001b[0m \u001b[1;33m=\u001b[0m \u001b[0mint\u001b[0m\u001b[1;33m(\u001b[0m\u001b[1;34m'abc'\u001b[0m\u001b[1;33m)\u001b[0m\u001b[1;33m\u001b[0m\u001b[0m\n\u001b[0m\u001b[0;32m      2\u001b[0m \u001b[0mprint\u001b[0m\u001b[1;33m(\u001b[0m\u001b[0mresult\u001b[0m\u001b[1;33m)\u001b[0m\u001b[1;33m\u001b[0m\u001b[0m\n",
      "\u001b[1;31mValueError\u001b[0m: invalid literal for int() with base 10: 'abc'"
     ]
    }
   ],
   "source": [
    "result = int('abc')\n",
    "print(result)"
   ]
  },
  {
   "cell_type": "code",
   "execution_count": 11,
   "metadata": {},
   "outputs": [
    {
     "ename": "ValueError",
     "evalue": "invalid literal for int() with base 10: 'abc'",
     "output_type": "error",
     "traceback": [
      "\u001b[1;31m---------------------------------------------------------------------------\u001b[0m",
      "\u001b[1;31mValueError\u001b[0m                                Traceback (most recent call last)",
      "\u001b[1;32m<ipython-input-11-221edd04e276>\u001b[0m in \u001b[0;36m<module>\u001b[1;34m()\u001b[0m\n\u001b[0;32m      1\u001b[0m \u001b[1;32mtry\u001b[0m\u001b[1;33m:\u001b[0m\u001b[1;33m\u001b[0m\u001b[0m\n\u001b[1;32m----> 2\u001b[1;33m     \u001b[0mresult\u001b[0m \u001b[1;33m=\u001b[0m \u001b[0mint\u001b[0m\u001b[1;33m(\u001b[0m\u001b[1;34m'abc'\u001b[0m\u001b[1;33m)\u001b[0m\u001b[1;33m\u001b[0m\u001b[0m\n\u001b[0m\u001b[0;32m      3\u001b[0m     \u001b[0mprint\u001b[0m\u001b[1;33m(\u001b[0m\u001b[0mresult\u001b[0m\u001b[1;33m)\u001b[0m\u001b[1;33m\u001b[0m\u001b[0m\n\u001b[0;32m      4\u001b[0m \u001b[1;32mexcept\u001b[0m \u001b[0mImportError\u001b[0m\u001b[1;33m:\u001b[0m\u001b[1;33m\u001b[0m\u001b[0m\n\u001b[0;32m      5\u001b[0m     \u001b[0mprint\u001b[0m\u001b[1;33m(\u001b[0m\u001b[1;34m\"导入错误\"\u001b[0m\u001b[1;33m)\u001b[0m\u001b[1;33m\u001b[0m\u001b[0m\n",
      "\u001b[1;31mValueError\u001b[0m: invalid literal for int() with base 10: 'abc'"
     ]
    }
   ],
   "source": [
    "try:\n",
    "    result = int('abc')\n",
    "    print(result)\n",
    "except ImportError:\n",
    "    print(\"导入错误\")\n",
    "except ZeroDivisionError:\n",
    "    print(\"0不能作为除数\")\n",
    "except TypeError:\n",
    "    print(\"类型错误！\")"
   ]
  },
  {
   "cell_type": "code",
   "execution_count": 17,
   "metadata": {},
   "outputs": [
    {
     "name": "stdout",
     "output_type": "stream",
     "text": [
      "0不能作为除数\n"
     ]
    }
   ],
   "source": [
    "try:\n",
    "    result = 1/0\n",
    "    print(result)\n",
    "except ZeroDivisionError: \n",
    "    print(\"0不能作为除数\")\n",
    "except ArithmeticError: # ZeroDivisionError的父类\n",
    "    print(\"数学错误\")"
   ]
  },
  {
   "cell_type": "code",
   "execution_count": 18,
   "metadata": {},
   "outputs": [
    {
     "name": "stdout",
     "output_type": "stream",
     "text": [
      "数学错误\n"
     ]
    }
   ],
   "source": [
    "try:\n",
    "    result = 1/0\n",
    "    print(result)\n",
    "except ArithmeticError: # ZeroDivisionError的父类\n",
    "    print(\"数学错误\")\n",
    "except ZeroDivisionError: \n",
    "    print(\"0不能作为除数\")"
   ]
  },
  {
   "cell_type": "code",
   "execution_count": 19,
   "metadata": {},
   "outputs": [
    {
     "name": "stdout",
     "output_type": "stream",
     "text": [
      "数学错误\n"
     ]
    }
   ],
   "source": [
    "try:\n",
    "    result = 1/0\n",
    "    print(result)\n",
    "except ArithmeticError: # ZeroDivisionError的父类\n",
    "    print(\"数学错误\")\n",
    "except ZeroDivisionError: \n",
    "    print(\"数学错误\")\n",
    "#等价于下面代码"
   ]
  },
  {
   "cell_type": "code",
   "execution_count": 20,
   "metadata": {},
   "outputs": [
    {
     "name": "stdout",
     "output_type": "stream",
     "text": [
      "数学错误\n"
     ]
    }
   ],
   "source": [
    "try:\n",
    "    result = 1/0\n",
    "    print(result)\n",
    "except (ZeroDivisionError,ArithmeticError): # ZeroDivisionError的父类\n",
    "    print(\"数学错误\")"
   ]
  },
  {
   "cell_type": "markdown",
   "metadata": {},
   "source": [
    "# 如果想在匹配到的except子句中访问异常实例对象，可以在except子句中的冒号前添加as和一个变量"
   ]
  },
  {
   "cell_type": "code",
   "execution_count": 22,
   "metadata": {},
   "outputs": [
    {
     "name": "stdout",
     "output_type": "stream",
     "text": [
      "division by zero\n",
      "None\n"
     ]
    }
   ],
   "source": [
    "try:\n",
    "    result = 1/0\n",
    "    print(result)\n",
    "except ZeroDivisionError as err:\n",
    "    print(print(err))"
   ]
  },
  {
   "cell_type": "markdown",
   "metadata": {},
   "source": [
    "# try...except...else...\n",
    "\n",
    "else:执行try语句块里没有产生异常的"
   ]
  },
  {
   "cell_type": "code",
   "execution_count": 24,
   "metadata": {},
   "outputs": [
    {
     "name": "stdout",
     "output_type": "stream",
     "text": [
      "请输入一个整数： w\n",
      "无效的输入，请重新输入\n",
      "请输入一个整数： e\n",
      "无效的输入，请重新输入\n",
      "请输入一个整数： 12e\n",
      "无效的输入，请重新输入\n",
      "请输入一个整数： 12\n",
      "输入的整数为： 12\n"
     ]
    }
   ],
   "source": [
    "while True:\n",
    "    try:\n",
    "        x = int(input(\"请输入一个整数： \"))\n",
    "    except ValueError:\n",
    "        print(\"无效的输入，请重新输入\")\n",
    "    else:\n",
    "        print(\"输入的整数为：\", x)\n",
    "        break"
   ]
  },
  {
   "cell_type": "markdown",
   "metadata": {},
   "source": [
    "# try...except...finally...\n",
    "\n",
    "finally:总会被执行的代码\n",
    "没有被捕获的错误finally也运行，还返回没有报错的异常"
   ]
  },
  {
   "cell_type": "code",
   "execution_count": 1,
   "metadata": {
    "scrolled": true
   },
   "outputs": [
    {
     "name": "stdout",
     "output_type": "stream",
     "text": [
      "0.5\n",
      "释放资源\n",
      "结束\n"
     ]
    }
   ],
   "source": [
    "try:\n",
    "    result = 1/2\n",
    "    print(result)\n",
    "except (ZeroDivisionError,ArithmeticError): # ZeroDivisionError的父类\n",
    "    print(\"数学错误\")\n",
    "finally:\n",
    "    print(\"释放资源\")\n",
    "print(\"结束\")"
   ]
  },
  {
   "cell_type": "code",
   "execution_count": 26,
   "metadata": {},
   "outputs": [
    {
     "name": "stdout",
     "output_type": "stream",
     "text": [
      "释放资源\n"
     ]
    },
    {
     "ename": "ValueError",
     "evalue": "invalid literal for int() with base 10: 'abc'",
     "output_type": "error",
     "traceback": [
      "\u001b[1;31m---------------------------------------------------------------------------\u001b[0m",
      "\u001b[1;31mValueError\u001b[0m                                Traceback (most recent call last)",
      "\u001b[1;32m<ipython-input-26-103e91102f64>\u001b[0m in \u001b[0;36m<module>\u001b[1;34m()\u001b[0m\n\u001b[0;32m      1\u001b[0m \u001b[1;32mtry\u001b[0m\u001b[1;33m:\u001b[0m\u001b[1;33m\u001b[0m\u001b[0m\n\u001b[1;32m----> 2\u001b[1;33m     \u001b[0mresult\u001b[0m \u001b[1;33m=\u001b[0m \u001b[0mint\u001b[0m\u001b[1;33m(\u001b[0m\u001b[1;34m'abc'\u001b[0m\u001b[1;33m)\u001b[0m\u001b[1;33m\u001b[0m\u001b[0m\n\u001b[0m\u001b[0;32m      3\u001b[0m     \u001b[0mprint\u001b[0m\u001b[1;33m(\u001b[0m\u001b[0mresult\u001b[0m\u001b[1;33m)\u001b[0m\u001b[1;33m\u001b[0m\u001b[0m\n\u001b[0;32m      4\u001b[0m \u001b[1;32mexcept\u001b[0m \u001b[1;33m(\u001b[0m\u001b[0mZeroDivisionError\u001b[0m\u001b[1;33m,\u001b[0m\u001b[0mArithmeticError\u001b[0m\u001b[1;33m)\u001b[0m\u001b[1;33m:\u001b[0m \u001b[1;31m# ZeroDivisionError的父类\u001b[0m\u001b[1;33m\u001b[0m\u001b[0m\n\u001b[0;32m      5\u001b[0m     \u001b[0mprint\u001b[0m\u001b[1;33m(\u001b[0m\u001b[1;34m\"数学错误\"\u001b[0m\u001b[1;33m)\u001b[0m\u001b[1;33m\u001b[0m\u001b[0m\n",
      "\u001b[1;31mValueError\u001b[0m: invalid literal for int() with base 10: 'abc'"
     ]
    }
   ],
   "source": [
    "try:\n",
    "    result = int('abc')\n",
    "    print(result)\n",
    "except (ZeroDivisionError,ArithmeticError): # ZeroDivisionError的父类\n",
    "    print(\"数学错误\")\n",
    "finally:\n",
    "    print(\"释放资源\")\n",
    "print(\"结束\")"
   ]
  },
  {
   "cell_type": "markdown",
   "metadata": {},
   "source": [
    "在发生异常时的异常实例对象都是被自动抛出的\n",
    "我们可以使用raise语句手动抛出异常实例对象\n",
    "raise 异常类对象[([参数])]  如果没有参数传入，可以省略小括号\n",
    "\n",
    "如果在except语句块中不想对异常实例对象进行处理，还可以使用raise语句手动抛出另外一个异常类对象的实例对象\n",
    "\n",
    "# 自定义异常\n",
    "    尽管python内置的异常类对象可以满足我们的绝大部分的需求，但有时候我们可能想要创建自定义的异常类对象\n",
    "    正如所有的内置异常"
   ]
  },
  {
   "cell_type": "markdown",
   "metadata": {},
   "source": []
  },
  {
   "cell_type": "code",
   "execution_count": null,
   "metadata": {
    "collapsed": true
   },
   "outputs": [],
   "source": []
  },
  {
   "cell_type": "code",
   "execution_count": null,
   "metadata": {
    "collapsed": true
   },
   "outputs": [],
   "source": []
  },
  {
   "cell_type": "code",
   "execution_count": null,
   "metadata": {
    "collapsed": true
   },
   "outputs": [],
   "source": []
  },
  {
   "cell_type": "code",
   "execution_count": 36,
   "metadata": {},
   "outputs": [
    {
     "name": "stdout",
     "output_type": "stream",
     "text": [
      "444\n"
     ]
    },
    {
     "ename": "ModuleNotFoundError",
     "evalue": "No module named 'idcheck'",
     "output_type": "error",
     "traceback": [
      "\u001b[1;31m---------------------------------------------------------------------------\u001b[0m",
      "\u001b[1;31mModuleNotFoundError\u001b[0m                       Traceback (most recent call last)",
      "\u001b[1;32m<ipython-input-36-4c47c5833607>\u001b[0m in \u001b[0;36m<module>\u001b[1;34m()\u001b[0m\n\u001b[0;32m     99\u001b[0m \u001b[1;32mfrom\u001b[0m \u001b[0mtkinter\u001b[0m\u001b[1;33m.\u001b[0m\u001b[0mmessagebox\u001b[0m \u001b[1;32mimport\u001b[0m \u001b[1;33m*\u001b[0m\u001b[1;33m\u001b[0m\u001b[0m\n\u001b[0;32m    100\u001b[0m \u001b[1;32mimport\u001b[0m \u001b[0mos\u001b[0m\u001b[1;33m\u001b[0m\u001b[0m\n\u001b[1;32m--> 101\u001b[1;33m \u001b[1;32mimport\u001b[0m \u001b[0midcheck\u001b[0m\u001b[1;33m\u001b[0m\u001b[0m\n\u001b[0m\u001b[0;32m    102\u001b[0m \u001b[1;33m\u001b[0m\u001b[0m\n\u001b[0;32m    103\u001b[0m \u001b[1;32mclass\u001b[0m \u001b[0mIDCheckGUI\u001b[0m\u001b[1;33m(\u001b[0m\u001b[0mTk\u001b[0m\u001b[1;33m)\u001b[0m\u001b[1;33m:\u001b[0m\u001b[1;33m\u001b[0m\u001b[0m\n",
      "\u001b[1;31mModuleNotFoundError\u001b[0m: No module named 'idcheck'"
     ]
    }
   ],
   "source": [
    "from datetime import datetime\n",
    "from tkinter.messagebox import *\n",
    "\n",
    "class IdCheck:\n",
    "    \"\"\"\n",
    "    实现身份证校验的功能\n",
    "    \"\"\"\n",
    "    def __init__(self,id_number:str):\n",
    "        self.id_number = id_number\n",
    "        self.id_list = []  # 把身份证号码分离成4部分\n",
    "        self.file_path = r\"D:\\用户目录\\我的文档\\Tencent Files\\1521131720\\FileRecv\\identifier\\img\\idarea.txt\"\n",
    "        self.area_list = []\n",
    "\n",
    "        self.is_true_id_number = 0\n",
    "        self.gender = \"\"\n",
    "        self.birthday = \"\"\n",
    "        self.area_name = \"\"\n",
    "\n",
    "        # 自动执行分离\n",
    "        self.get_id_list()\n",
    "        # 自动加载区域信息\n",
    "        self.import_area_id()\n",
    "\n",
    "        # 自动校验\n",
    "        self.validate_check_number()\n",
    "        self.validate_birthday()\n",
    "        self.validate_area_id()\n",
    "        self.get_gender()\n",
    "\n",
    "\n",
    "    def get_id_list(self):\n",
    "        # 区域代码\n",
    "        self.id_list.append(self.id_number[:6])\n",
    "        # 出生日期码\n",
    "        self.id_list.append(self.id_number[6:14])\n",
    "        # 顺序码\n",
    "        self.id_list.append(self.id_number[14:17])\n",
    "        # 校验码\n",
    "        self.id_list.append(self.id_number[17:])\n",
    "\n",
    "    def validate_check_number(self):\n",
    "        if self.get_check_number() == self.id_list[3]:\n",
    "            self.is_true_id_number = 1\n",
    "\n",
    "    def get_check_number(self):\n",
    "        number = self.id_number[:17]\n",
    "        # 每个位上乘的系数\n",
    "        xi_list =[7, 9, 10, 5, 8,4,2,1,6,3,7,9,10,5,8,4,2]\n",
    "        # 返回的校验码\n",
    "        check_number= [\"1\",\"0\",\"X\",\"9\",\"8\",\"7\",\"6\",\"5\",\"4\",\"3\",\"2\"]\n",
    "        sum_of_number = 0\n",
    "        for index in range(len(number)):\n",
    "            sum_of_number += int(number[index]) * xi_list[index]\n",
    "        yu_number = sum_of_number % 11\n",
    "        return check_number[yu_number]\n",
    "\n",
    "    def validate_birthday(self):\n",
    "        date_from = datetime(year=1900,month=1,day=1)\n",
    "        date_to = datetime.today()\n",
    "        id_birthday = datetime(year=int(self.id_number[6:10]),month=int(self.id_number[10:12]),day=int(self.id_number[12:14]))\n",
    "        if id_birthday > date_from and id_birthday < date_to:\n",
    "            self.birthday = self.id_number[6:10] + \"年\" + self.id_number[10:12] + \"月\" + self.id_number[12:14] + \"日\"\n",
    "\n",
    "    def import_area_id(self):\n",
    "        try:\n",
    "            with open(file=self.file_path,mode=\"r\",) as fd:\n",
    "                current_line = fd.readline()\n",
    "                while current_line:\n",
    "                    current_area_list = current_line.split(\"\\t\")\n",
    "                    if len(current_area_list[0]) == 6:\n",
    "                        self.area_list.append(current_area_list)\n",
    "                    current_line = fd.readline()\n",
    "        except:\n",
    "            showinfo(\"系统消息\",\"读取文件出现异常！\")\n",
    "\n",
    "    def validate_area_id(self):\n",
    "        for index in range(len(self.area_list)):\n",
    "            if self.area_list[index][0] == self.id_list[0]:\n",
    "                self.area_name = self.area_list[index][1]\n",
    "                break\n",
    "\n",
    "    def get_gender(self):\n",
    "        if int(self.id_list[2]) % 2 == 0:\n",
    "            self.gender = \"女\"\n",
    "        else:\n",
    "            self.gender = \"男\"\n",
    "\n",
    "\n",
    "\n",
    "if __name__ == \"__main__\":\n",
    "    this_check = IdCheck(\"53010398801011238\")\n",
    "    print(\"444\")\n",
    "\n",
    "\n",
    "\n",
    "\n",
    "from tkinter import *\n",
    "from tkinter.ttk import *\n",
    "from tkinter.messagebox import *\n",
    "import os\n",
    "import idcheck\n",
    "\n",
    "class IDCheckGUI(Tk):\n",
    "    def __init__(self):\n",
    "        super().__init__()\n",
    "        self.title(\"身份证信息校验\")\n",
    "        self.geometry(\"700x480+400+200\")\n",
    "        self.resizable(0,0)\n",
    "        self[\"bg\"] = \"lightblue\"\n",
    "\n",
    "        self.setup_UI()\n",
    "\n",
    "    def setup_UI(self):\n",
    "\n",
    "        self.style01 = Style()\n",
    "        self.style01.configure(\"input.TLabel\",font=(\"微软雅黑\",14,\"bold\"),foreground=\"lightblue\",background=\"navy\")\n",
    "        self.style01.configure(\"TLabel\",font=(\"微软雅黑\",14,\"bold\"),foreground=\"navy\",background=\"lightblue\")\n",
    "        self.style01.configure(\"TButton\", font=(\"微软雅黑\", 14, \"bold\"), foreground=\"navy\", background=\"lightblue\")\n",
    "\n",
    "        # 图片\n",
    "        self.Login_image =  PhotoImage(file = \"F:\\\\identifier\\\\img\\\\id2.png\")\n",
    "        self.Label_image = Label(self,  image = self.Login_image)\n",
    "        self.Label_image.place(x=10, y=10)\n",
    "\n",
    "        # 最上面一排\n",
    "        self.Label_id_input = Label(self,text=\"请输入身份证号码：\",style=\"input.TLabel\")\n",
    "        self.Label_id_input.place(x=320,y=20)\n",
    "\n",
    "        self.var_input = StringVar()\n",
    "        self.Entry_id_input = Entry(self, textvariable=self.var_input, font=(\"微软雅黑\",16,\"bold\"), width=20)\n",
    "        self.Entry_id_input.place(x=320, y=60)\n",
    "\n",
    "        self.Button_id_input = Button(self, text=\"校验\",width =6,command=self.get_info)\n",
    "        self.Button_id_input.place(x=600, y=58)\n",
    "\n",
    "\n",
    "        # 具体信息\n",
    "\n",
    "        self.Label_is_exsit= Label(self, text=\"是否有效：\",)\n",
    "        self.Label_is_exsit.place(x=320, y=150)\n",
    "\n",
    "        self.var_enable = StringVar()\n",
    "        self.Entry_is_exsit = Entry(self,state=DISABLED, textvariable=self.var_enable,font=(\"微软雅黑\",14,\"bold\"),width=8 )\n",
    "        self.Entry_is_exsit.place(x=420, y=148)\n",
    "\n",
    "        self.Label_is_gender = Label(self, text=\"性别：\", )\n",
    "        self.Label_is_gender.place(x=358, y=210)\n",
    "\n",
    "        self.var_gender = StringVar()\n",
    "        self.Entry_gender = Entry(self, state=DISABLED, textvariable=self.var_gender,font=(\"微软雅黑\", 14, \"bold\"), width=8)\n",
    "        self.Entry_gender.place(x=420, y=208)\n",
    "\n",
    "        self.Label_is_birthday = Label(self, text=\"出生日期：\", )\n",
    "        self.Label_is_birthday.place(x=320, y=270)\n",
    "\n",
    "        self.var_birthday = StringVar()\n",
    "        self.Entry_is_birthday= Entry(self, state=DISABLED, textvariable=self.var_birthday,font=(\"微软雅黑\", 14, \"bold\"), width=18)\n",
    "        self.Entry_is_birthday.place(x=420, y=268)\n",
    "\n",
    "        self.Label_is_area = Label(self, text=\"所在地：\", )\n",
    "        self.Label_is_area.place(x=338, y=330)\n",
    "        self.var_area = StringVar()\n",
    "        self.Label_is_area  = Entry(self, state=DISABLED,  textvariable=self.var_area,font=(\"微软雅黑\", 14, \"bold\"), width=18)\n",
    "        self.Label_is_area.place(x=420, y=328)\n",
    "\n",
    "        self.Button_close = Button(self, text=\"关闭\", width = 6, command= self.close_window)\n",
    "        self.Button_close.place(x=560, y=420)\n",
    "\n",
    "\n",
    "    def close_window(self):\n",
    "        self.destroy()\n",
    "\n",
    "    def get_info(self):\n",
    "        id_number = self.var_input.get()\n",
    "        if len(id_number) == 18:\n",
    "            check_id = idcheck.IdCheck(id_number)\n",
    "            if check_id.is_true_id_number==0 or len(check_id.birthday)==0 or len(check_id.area_name)==0:\n",
    "                self.var_enable.set(\"无效\")\n",
    "            else:\n",
    "                self.var_enable.set(\"有效\")\n",
    "                self.var_gender.set(check_id.gender)\n",
    "                self.var_birthday.set(check_id.birthday)\n",
    "                self.var_area.set(check_id.area_name)\n",
    "        else:\n",
    "            showinfo(\"系统消息\",\"身份证号码不满18位，请重新输入！\")\n",
    "            self.var_enable.set(\"无效\")\n",
    "            self.var_gender.set(\"\")\n",
    "            self.var_birthday.set(\"\")\n",
    "            self.var_area.set(\"\")\n",
    "\n",
    "\n",
    "from idcheckgui import *\n",
    "\n",
    "\n",
    "if __name__ == \"__main__\":\n",
    "    check_gui = IDCheckGUI()\n",
    "    check_gui.mainloop()\n",
    "\n"
   ]
  },
  {
   "cell_type": "code",
   "execution_count": null,
   "metadata": {
    "collapsed": true
   },
   "outputs": [],
   "source": []
  }
 ],
 "metadata": {
  "kernelspec": {
   "display_name": "Python 3",
   "language": "python",
   "name": "python3"
  },
  "language_info": {
   "codemirror_mode": {
    "name": "ipython",
    "version": 3
   },
   "file_extension": ".py",
   "mimetype": "text/x-python",
   "name": "python",
   "nbconvert_exporter": "python",
   "pygments_lexer": "ipython3",
   "version": "3.7.4"
  }
 },
 "nbformat": 4,
 "nbformat_minor": 2
}
