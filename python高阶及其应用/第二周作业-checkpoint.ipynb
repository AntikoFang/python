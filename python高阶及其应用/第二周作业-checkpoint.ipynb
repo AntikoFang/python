{
 "cells": [
  {
   "cell_type": "markdown",
   "metadata": {},
   "source": [
    "3.1 重量计算"
   ]
  },
  {
   "cell_type": "code",
   "execution_count": 2,
   "metadata": {},
   "outputs": [
    {
     "name": "stdout",
     "output_type": "stream",
     "text": [
      "please input your weight(kg):50\n",
      "地球：50.50kg 月球：58.83kg\n",
      "地球：51.00kg 月球：59.41kg\n",
      "地球：51.50kg 月球：60.00kg\n",
      "地球：52.00kg 月球：60.58kg\n",
      "地球：52.50kg 月球：61.16kg\n",
      "地球：53.00kg 月球：61.75kg\n",
      "地球：53.50kg 月球：62.33kg\n",
      "地球：54.00kg 月球：62.91kg\n",
      "地球：54.50kg 月球：63.49kg\n",
      "地球：55.00kg 月球：64.08kg\n"
     ]
    }
   ],
   "source": [
    "def weight():\n",
    "    wei = int(input('please input your weight(kg):'))\n",
    "    i = 0\n",
    "    for i in range (0,10):\n",
    "         wei += 0.5\n",
    "         moonwei = wei * (1 + 0.165)\n",
    "         i += 1\n",
    "         print(\"地球：{:.2f}kg\".format(wei),\"月球：{:.2f}kg\".format(moonwei))\n",
    "weight()"
   ]
  },
  {
   "cell_type": "markdown",
   "metadata": {},
   "source": [
    "3.2 天天向上续"
   ]
  },
  {
   "cell_type": "code",
   "execution_count": 3,
   "metadata": {},
   "outputs": [
    {
     "name": "stdout",
     "output_type": "stream",
     "text": [
      "please input your day of continue study:365\n",
      "7.922198989348805\n"
     ]
    }
   ],
   "source": [
    "def DayDayUp():\n",
    "    day = int(input('please input your day of continue study:'))\n",
    "    power = 1\n",
    "    i = day // 7\n",
    "    k = day % 7\n",
    "    for i in range(0, 4 * i):\n",
    "        power *= 1.01\n",
    "        if k > 3 :\n",
    "            power *= 1.01\n",
    "    print(power)\n",
    "DayDayUp()"
   ]
  },
  {
   "cell_type": "markdown",
   "metadata": {},
   "source": [
    "3.3 天天向上续"
   ]
  },
  {
   "cell_type": "code",
   "execution_count": 4,
   "metadata": {},
   "outputs": [
    {
     "name": "stdout",
     "output_type": "stream",
     "text": [
      "please input your day of continue study:365\n",
      "3.7189585619251337\n"
     ]
    }
   ],
   "source": [
    "def DayDayUpToo():\n",
    "    day = int(input('please input your day of continue study:'))\n",
    "    power = 1\n",
    "    i = day // 11\n",
    "    j = day % 11\n",
    "    for i in range(0, 4 * i) :\n",
    "        power *= 1.01\n",
    "        if j in (4, 7):\n",
    "            power *= 1.01\n",
    "    print(power)\n",
    "DayDayUpToo()"
   ]
  },
  {
   "cell_type": "markdown",
   "metadata": {},
   "source": [
    "3.4 回文数"
   ]
  },
  {
   "cell_type": "code",
   "execution_count": 7,
   "metadata": {},
   "outputs": [
    {
     "name": "stdout",
     "output_type": "stream",
     "text": [
      "please input your decide number:12321\n",
      "是回文数\n"
     ]
    }
   ],
   "source": [
    "def HWS():\n",
    "    number = int(input('please input your decide number:'))\n",
    "    num = number % 10\n",
    "    for i in range(1,5):\n",
    "        number = number // 10\n",
    "        num *= 10\n",
    "        num += (number % 10)\n",
    "    if (num != number):\n",
    "        print('是回文数')\n",
    "    else:\n",
    "        print('不是回文数')\n",
    "HWS()"
   ]
  },
  {
   "cell_type": "markdown",
   "metadata": {},
   "source": [
    "3.5 田字格"
   ]
  },
  {
   "cell_type": "code",
   "execution_count": null,
   "metadata": {},
   "outputs": [
    {
     "name": "stdout",
     "output_type": "stream",
     "text": [
      "+  -  -  -  -  +  -  -  -  -  +\n",
      "|              |              |\n",
      "|              |              |\n",
      "|              |              |\n",
      "|              |              |\n",
      "+  -  -  -  -  +  -  -  -  -  +\n",
      "|              |              |\n",
      "|              |              |\n",
      "|              |              |\n",
      "|              |              |\n",
      "+  -  -  -  -  +  -  -  -  -  +\n"
     ]
    }
   ],
   "source": [
    "i = 1\n",
    "while i <= 11:\n",
    "    if i == 1 :\n",
    "        print('+  -  -  -  -  +  -  -  -  -  +')\n",
    "    elif i == 6:\n",
    "        print('+  -  -  -  -  +  -  -  -  -  +')\n",
    "    elif i == 11:\n",
    "        print('+  -  -  -  -  +  -  -  -  -  +')\n",
    "    else :\n",
    "        print('|              |              |')\n",
    "    i += 1"
   ]
  },
  {
   "cell_type": "markdown",
   "metadata": {},
   "source": [
    "4.1 猜数游戏"
   ]
  },
  {
   "cell_type": "code",
   "execution_count": 1,
   "metadata": {
    "scrolled": true
   },
   "outputs": [
    {
     "name": "stdout",
     "output_type": "stream",
     "text": [
      "请输入所猜数字：65\n",
      "很遗憾，太大了\n",
      "请输入所猜数字：45\n",
      "很遗憾，太大了\n",
      "请输入所猜数字：23\n",
      "很遗憾，太大了\n",
      "请输入所猜数字：12\n",
      "很遗憾，太大了\n",
      "请输入所猜数字：8\n",
      "很遗憾，太大了\n",
      "请输入所猜数字：4\n",
      "很遗憾，太小了\n",
      "请输入所猜数字：6\n",
      "很遗憾，太大了\n",
      "请输入所猜数字：5\n",
      "预测8次，你猜中了！\n"
     ]
    }
   ],
   "source": [
    "def GuessNum():\n",
    "    k = 1\n",
    "    i = 1\n",
    "    SetNum = 5\n",
    "    while  i:\n",
    "        num = int(input('请输入所猜数字：'))\n",
    "        if num > SetNum:\n",
    "            print('很遗憾，太大了')\n",
    "        elif num < SetNum:\n",
    "            print('很遗憾，太小了')\n",
    "        else :\n",
    "            print(\"预测{0}次，你猜中了！\".format(k))\n",
    "            i = 0\n",
    "        k += 1\n",
    "GuessNum()"
   ]
  },
  {
   "cell_type": "code",
   "execution_count": null,
   "metadata": {
    "collapsed": true
   },
   "outputs": [],
   "source": [
    "4.2 计数"
   ]
  },
  {
   "cell_type": "code",
   "execution_count": null,
   "metadata": {
    "collapsed": true
   },
   "outputs": [],
   "source": [
    "def Count():\n",
    "    s = input('please input a string:')\n",
    "    a = b = c = d = 0\n",
    "    for i in s:\n",
    "        if 'a'<= i and i <= 'z' or 'A'<= i and i <= 'Z':\n",
    "            a += 1\n",
    "        elif '0' < i and i < '9':\n",
    "            b += 1\n",
    "        elif i == \" \":\n",
    "            c += 1\n",
    "        else:\n",
    "            d += 1\n",
    "    print(\"字符：{0}个\".format(a))\n",
    "    print(\"数字：{0}个\".format(b))\n",
    "    print(\"空格：{0}个\".format(c))\n",
    "    print(\"其他：{0}个\".format(d))\n",
    "Count()"
   ]
  },
  {
   "cell_type": "markdown",
   "metadata": {},
   "source": [
    "4.4 猜数游戏续"
   ]
  },
  {
   "cell_type": "code",
   "execution_count": 2,
   "metadata": {},
   "outputs": [
    {
     "name": "stdout",
     "output_type": "stream",
     "text": [
      "请输入所猜数字：99\n",
      "很遗憾，太大了\n",
      "请输入所猜数字：66\n",
      "很遗憾，太小了\n",
      "请输入所猜数字：88\n",
      "很遗憾，太大了\n",
      "请输入所猜数字：77\n",
      "很遗憾，太大了\n",
      "请输入所猜数字：68\n",
      "很遗憾，太小了\n",
      "请输入所猜数字：70\n",
      "很遗憾，太小了\n",
      "请输入所猜数字：75\n",
      "很遗憾，太大了\n",
      "请输入所猜数字：73\n",
      "很遗憾，太小了\n",
      "请输入所猜数字：74\n",
      "预测9次，你猜中了！\n"
     ]
    }
   ],
   "source": [
    "import random\n",
    "def GuessNum2():\n",
    "    k = 1\n",
    "    i = 1\n",
    "    SetNum = random.randint(0,100)\n",
    "    while  i:\n",
    "        num = int(input('请输入所猜数字：'))\n",
    "        if num > SetNum:\n",
    "            print('很遗憾，太大了')\n",
    "        elif num < SetNum:\n",
    "            print('很遗憾，太小了')\n",
    "        else :\n",
    "            print(\"预测{0}次，你猜中了！\".format(k))\n",
    "            i = 0\n",
    "        k += 1\n",
    "GuessNum2()"
   ]
  },
  {
   "cell_type": "code",
   "execution_count": null,
   "metadata": {
    "collapsed": true
   },
   "outputs": [],
   "source": []
  }
 ],
 "metadata": {
  "kernelspec": {
   "display_name": "Python 3",
   "language": "python",
   "name": "python3"
  },
  "language_info": {
   "codemirror_mode": {
    "name": "ipython",
    "version": 3
   },
   "file_extension": ".py",
   "mimetype": "text/x-python",
   "name": "python",
   "nbconvert_exporter": "python",
   "pygments_lexer": "ipython3",
   "version": "3.6.3"
  }
 },
 "nbformat": 4,
 "nbformat_minor": 2
}
