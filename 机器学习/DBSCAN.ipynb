{
 "cells": [
  {
   "cell_type": "markdown",
   "metadata": {},
   "source": [
    "直接密度可达：给定一个集合对象D，如果P在Q的EPS领域内，而q是一个核心对象，则称对象P从对象Q出发时是直接密度可达\n",
    "\n",
    "DBSCAN不是完全聚类\n",
    "给予密度聚类是寻找被低密度区域分离的高密度区域\n",
    "\n",
    "DBSCAN实现\n",
    "https://www.naftaliharris.com/blog/visualizing-dbscan-clustering\n",
    "\n",
    "https://www.naftaliharris.com/blog/visualizing-kmeans-clustering"
   ]
  }
 ],
 "metadata": {
  "kernelspec": {
   "display_name": "Python 3",
   "language": "python",
   "name": "python3"
  },
  "language_info": {
   "codemirror_mode": {
    "name": "ipython",
    "version": 3
   },
   "file_extension": ".py",
   "mimetype": "text/x-python",
   "name": "python",
   "nbconvert_exporter": "python",
   "pygments_lexer": "ipython3",
   "version": "3.6.3"
  }
 },
 "nbformat": 4,
 "nbformat_minor": 2
}
