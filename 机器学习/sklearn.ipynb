{
 "cells": [
  {
   "cell_type": "markdown",
   "metadata": {},
   "source": [
    "从两分类评价扩展到多分类评价\n",
    "- 将每个类别均视为两分类预测问题，分别给出以下指标\n",
    " - 是/不是这一类别\n",
    "\n",
    "micro\n",
    "macro\n",
    "Weighted"
   ]
  },
  {
   "cell_type": "markdown",
   "metadata": {},
   "source": [
    "# 混淆矩阵\n",
    "分类结果的呈现：混淆矩阵"
   ]
  }
 ],
 "metadata": {
  "kernelspec": {
   "display_name": "Python 3",
   "language": "python",
   "name": "python3"
  },
  "language_info": {
   "codemirror_mode": {
    "name": "ipython",
    "version": 3
   },
   "file_extension": ".py",
   "mimetype": "text/x-python",
   "name": "python",
   "nbconvert_exporter": "python",
   "pygments_lexer": "ipython3",
   "version": "3.6.3"
  }
 },
 "nbformat": 4,
 "nbformat_minor": 2
}
