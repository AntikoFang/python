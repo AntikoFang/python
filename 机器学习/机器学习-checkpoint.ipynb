{
 "cells": [
  {
   "cell_type": "markdown",
   "metadata": {},
   "source": [
    "# 交叉验证(Cross-Validation 简称CV)\n",
    "## 基本思想：\n",
    "   - 将样本随机分成K份，其中一份作为验证集，其他k-1份用来训练模型\n",
    "   - 每一份样本均作为一次验证集，交叉验证公重复k次\n",
    "   - 平均K次的结果或者使用其他结合方式\n",
    "## 常用的样本拆分方法：\n",
    "   - leave-one-out(loo)：每次留下一个，n个样本，最后一个用来验证\n",
    "   - leave-p-out：每次留下p个\n",
    "   - K-fold：尽可能地对样本做k组等分\n",
    "       - 剩余样本给若干个组分配一个，因此这些组有(n_sample/k)+1个样本\n",
    "       - 十分法最常见\n",
    "   - Shuffle split：分组前样本重新随机排序\n",
    "       - 在分成的n_split组中，样本点可以有重复\n",
    "   - Stratified K-Fold：KK个组均有n_sample/k 个样本\n",
    "       - \n",
    "   - Stratified Shuffle Split\n",
    "       - Shuffle split 和 Stratified K-Fold两种方式的组合\n",
    "   - 考虑样本存在聚集性的拆分方法\n",
    "       - 当有的样本点来自于同一个对象时，\n",
    "       - \n",
    "       - \n",
    "       - \n",
    "   "
   ]
  },
  {
   "cell_type": "code",
   "execution_count": null,
   "metadata": {
    "collapsed": true
   },
   "outputs": [],
   "source": [
    "二分法拆分\n",
    "设置随机种子 伪随机 不然下一次没办法比较"
   ]
  },
  {
   "cell_type": "code",
   "execution_count": 5,
   "metadata": {},
   "outputs": [],
   "source": [
    "#拆分法 \n",
    "from sklearn.datasets import load_boston\n",
    "boston = load_boston()#导入波士顿房屋数据集\n",
    "from sklearn.model_selection import train_test_split\n",
    "x_train,x_test,y_train,y_test = train_test_split(boston.data,\n",
    "                                                 boston.target,\n",
    "                                                 test_size = 0.3,#三七分\n",
    "                                                 random_state = 123)\n"
   ]
  },
  {
   "cell_type": "code",
   "execution_count": 6,
   "metadata": {},
   "outputs": [
    {
     "data": {
      "text/plain": [
       "LinearRegression(copy_X=True, fit_intercept=True, n_jobs=1, normalize=False)"
      ]
     },
     "execution_count": 6,
     "metadata": {},
     "output_type": "execute_result"
    }
   ],
   "source": [
    "\n",
    "from sklearn import linear_model #实例化\n",
    "reg = linear_model.LinearRegression()\n",
    "reg.fit(x_train,y_train)\n",
    "\n",
    "\n"
   ]
  },
  {
   "cell_type": "code",
   "execution_count": 7,
   "metadata": {},
   "outputs": [
    {
     "name": "stdout",
     "output_type": "stream",
     "text": [
      "0.764559849031\n",
      "0.648928372942\n"
     ]
    }
   ],
   "source": [
    "\n",
    "from sklearn import metrics\n",
    "print(metrics.r2_score(y_train,reg.predict(x_train)))\n",
    "print(metrics.r2_score(y_test,reg.predict(x_test)))"
   ]
  },
  {
   "cell_type": "code",
   "execution_count": null,
   "metadata": {
    "collapsed": true
   },
   "outputs": [],
   "source": [
    "#用cross_val_score 要亲自洗牌\n",
    "from sklearn.model_selection import cross_val_score\n",
    "reg = linear_model.LinearRegression()\n",
    "scores = cross_val_score(reg,boston.data,boston.target,cv = 10)\n",
    "scores\n",
    "scores.mean(),scores.std()\n"
   ]
  },
  {
   "cell_type": "code",
   "execution_count": 8,
   "metadata": {},
   "outputs": [
    {
     "data": {
      "text/plain": [
       "(0.7083895670020115, 0.061943117494054109)"
      ]
     },
     "execution_count": 8,
     "metadata": {},
     "output_type": "execute_result"
    }
   ],
   "source": [
    "# 对数据进行随机重排，保证拆分的均匀性\n",
    "import numpy as np\n",
    "X,y = boston.data,boston.target\n",
    "idices = np.arange(y.shape[0])\n",
    "np.random.shuffle(idices)\n",
    "X,y = X[idices],y[idices]\n",
    "# 用交叉验证cross_val_score前要亲自洗牌\n",
    "from sklearn.model_selection import cross_val_score\n",
    "reg = linear_model.LinearRegression()\n",
    "scores = cross_val_score(reg,X,y,cv = 10)\n",
    "scores\n",
    "scores.mean(),scores.std()"
   ]
  },
  {
   "cell_type": "code",
   "execution_count": null,
   "metadata": {
    "collapsed": true
   },
   "outputs": [],
   "source": []
  },
  {
   "cell_type": "code",
   "execution_count": null,
   "metadata": {
    "collapsed": true
   },
   "outputs": [],
   "source": []
  }
 ],
 "metadata": {
  "kernelspec": {
   "display_name": "Python 3",
   "language": "python",
   "name": "python3"
  },
  "language_info": {
   "codemirror_mode": {
    "name": "ipython",
    "version": 3
   },
   "file_extension": ".py",
   "mimetype": "text/x-python",
   "name": "python",
   "nbconvert_exporter": "python",
   "pygments_lexer": "ipython3",
   "version": "3.6.3"
  }
 },
 "nbformat": 4,
 "nbformat_minor": 2
}
